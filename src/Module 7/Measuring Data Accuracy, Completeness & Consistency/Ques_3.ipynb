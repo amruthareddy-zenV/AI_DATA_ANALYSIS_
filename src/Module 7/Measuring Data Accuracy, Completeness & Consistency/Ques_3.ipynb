{
 "cells": [
  {
   "cell_type": "markdown",
   "metadata": {},
   "source": [
    "## Compare Data Completeness Over Time\n",
    "\n",
    "**Description**: Analyze the trend of missing data in `\"sales_data.csv\"` over several months stored in a \"date\" column. Visualize missing data rates by month."
   ]
  },
  {
   "cell_type": "code",
   "execution_count": 1,
   "metadata": {},
   "outputs": [
    {
     "name": "stdout",
     "output_type": "stream",
     "text": [
      "Error: File 'sales_data.csv' not found. Please check the file path.\n"
     ]
    }
   ],
   "source": [
    "# Write your code from here\n",
    "import pandas as pd\n",
    "import matplotlib.pyplot as plt\n",
    "import seaborn as sns\n",
    "\n",
    "# Load the sales data\n",
    "try:\n",
    "    df = pd.read_csv(\"sales_data.csv\")\n",
    "    \n",
    "    # Ensure the date column is in datetime format\n",
    "    if 'date' in df.columns:\n",
    "        df['date'] = pd.to_datetime(df['date'], errors='coerce')\n",
    "        \n",
    "        # Extract year and month for grouping\n",
    "        df['year_month'] = df['date'].dt.to_period('M')\n",
    "        \n",
    "        # Calculate missing data statistics by month\n",
    "        missing_stats = df.groupby('year_month').apply(\n",
    "            lambda x: x.isnull().mean().mean() * 100\n",
    "        ).reset_index()\n",
    "        missing_stats.columns = ['year_month', 'missing_percentage']\n",
    "        \n",
    "        # Convert Period to string for plotting\n",
    "        missing_stats['year_month_str'] = missing_stats['year_month'].astype(str)\n",
    "        \n",
    "        # Plotting\n",
    "        plt.figure(figsize=(12, 6))\n",
    "        sns.lineplot(data=missing_stats, x='year_month_str', y='missing_percentage', \n",
    "                     marker='o', color='royalblue')\n",
    "        \n",
    "        plt.title('Trend of Missing Data in Sales Dataset', fontsize=14, pad=20)\n",
    "        plt.xlabel('Month', fontsize=12)\n",
    "        plt.ylabel('Missing Data Percentage', fontsize=12)\n",
    "        plt.xticks(rotation=45)\n",
    "        plt.grid(axis='y', linestyle='--', alpha=0.7)\n",
    "        \n",
    "        # Annotate data points\n",
    "        for index, row in missing_stats.iterrows():\n",
    "            plt.text(row['year_month_str'], row['missing_percentage']+0.5, \n",
    "                     f\"{row['missing_percentage']:.1f}%\", \n",
    "                     ha='center', va='bottom', fontsize=9)\n",
    "        \n",
    "        plt.tight_layout()\n",
    "        plt.show()\n",
    "        \n",
    "    else:\n",
    "        print(\"Error: 'date' column not found in the dataset.\")\n",
    "        \n",
    "except FileNotFoundError:\n",
    "    print(\"Error: File 'sales_data.csv' not found. Please check the file path.\")\n",
    "except Exception as e:\n",
    "    print(f\"An error occurred: {str(e)}\")"
   ]
  }
 ],
 "metadata": {
  "kernelspec": {
   "display_name": ".venv",
   "language": "python",
   "name": "python3"
  },
  "language_info": {
   "codemirror_mode": {
    "name": "ipython",
    "version": 3
   },
   "file_extension": ".py",
   "mimetype": "text/x-python",
   "name": "python",
   "nbconvert_exporter": "python",
   "pygments_lexer": "ipython3",
   "version": "3.10.12"
  }
 },
 "nbformat": 4,
 "nbformat_minor": 2
}
