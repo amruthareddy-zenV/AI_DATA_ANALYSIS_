{
 "cells": [
  {
   "cell_type": "markdown",
   "metadata": {},
   "source": [
    "# Measuring Completeness\n",
    "\n",
    "**Activity Overview**: Evaluate data completeness by checking missing data rates and handling partially available records.\n",
    "\n",
    "## Title: Customer Profiles\n",
    "\n",
    "**Task**: Calculate the missing data rate for customer profiles.\n",
    "\n",
    "**Steps**:\n",
    "1. List all required fields for a complete customer profile (e.g., name, address, email,\n",
    "phone number).\n",
    "2. Analyze the dataset to count how many profiles have missing fields.\n",
    "3. Calculate the percentage of missing data fields across all profiles."
   ]
  },
  {
   "cell_type": "code",
   "execution_count": 2,
   "metadata": {},
   "outputs": [
    {
     "name": "stdout",
     "output_type": "stream",
     "text": [
      "No valid file selected. Creating sample data...\n",
      "Sample data created at /workspaces/AI_DATA_ANALYSIS_/src/Module 7/Measuring Data Accuracy, Completeness & Consistency/customer_profiles.csv\n"
     ]
    }
   ],
   "source": [
    "import os\n",
    "import pandas as pd\n",
    "from pathlib import Path\n",
    "from tkinter import filedialog\n",
    "from tkinter import Tk\n",
    "import numpy as np\n",
    "\n",
    "def get_file_path(default=\"customer_profiles.csv\"):\n",
    "    \"\"\"Get file path with user interaction\"\"\"\n",
    "    if Path(default).exists():\n",
    "        return default\n",
    "    \n",
    "    try:\n",
    "        root = Tk()\n",
    "        root.withdraw()\n",
    "        file_path = filedialog.askopenfilename(\n",
    "            initialdir=os.getcwd(),\n",
    "            title=\"Select customer profiles file\",\n",
    "            filetypes=[(\"CSV\", \"*.csv\"), (\"Excel\", \"*.xls *.xlsx\")]\n",
    "        )\n",
    "        return file_path if file_path else default\n",
    "    except:\n",
    "        return default\n",
    "\n",
    "def create_sample_data(path):\n",
    "    \"\"\"Create sample data if needed\"\"\"\n",
    "    data = {\n",
    "        'customer_id': range(1, 101),\n",
    "        'first_name': ['John']*95 + [np.nan]*5,\n",
    "        'last_name': ['Doe']*90 + [np.nan]*10,\n",
    "        'email': [f\"user{i}@example.com\" for i in range(1, 81)] + [np.nan]*20,\n",
    "        'phone': [f\"555-{i:04d}\" for i in range(1, 76)] + [np.nan]*25,\n",
    "        'address': [f\"{i} Main St\" for i in range(1, 71)] + [np.nan]*30,\n",
    "    }\n",
    "    pd.DataFrame(data).to_csv(path, index=False)\n",
    "    return path\n",
    "\n",
    "if __name__ == \"__main__\":\n",
    "    # Configuration\n",
    "    CONFIG = {\n",
    "        'data_path': get_file_path(),\n",
    "        'required_fields': [\n",
    "            'customer_id', 'first_name', 'last_name',\n",
    "            'email', 'phone', 'address'\n",
    "        ]\n",
    "    }\n",
    "    \n",
    "    # Handle missing file\n",
    "    if not CONFIG['data_path'] or not Path(CONFIG['data_path']).exists():\n",
    "        print(\"No valid file selected. Creating sample data...\")\n",
    "        CONFIG['data_path'] = create_sample_data(\"customer_profiles.csv\")\n",
    "        print(f\"Sample data created at {Path(CONFIG['data_path']).absolute()}\")\n",
    "    \n",
    "    # Rest of your analysis code..."
   ]
  }
 ],
 "metadata": {
  "kernelspec": {
   "display_name": ".venv",
   "language": "python",
   "name": "python3"
  },
  "language_info": {
   "codemirror_mode": {
    "name": "ipython",
    "version": 3
   },
   "file_extension": ".py",
   "mimetype": "text/x-python",
   "name": "python",
   "nbconvert_exporter": "python",
   "pygments_lexer": "ipython3",
   "version": "3.10.12"
  }
 },
 "nbformat": 4,
 "nbformat_minor": 2
}
