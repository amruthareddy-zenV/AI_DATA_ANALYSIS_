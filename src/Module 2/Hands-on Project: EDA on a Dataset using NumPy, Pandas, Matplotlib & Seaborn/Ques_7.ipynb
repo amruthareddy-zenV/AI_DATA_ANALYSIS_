{
 "cells": [
  {
   "cell_type": "code",
   "execution_count": 1,
   "metadata": {},
   "outputs": [
    {
     "name": "stdout",
     "output_type": "stream",
     "text": [
      "Average features by species:\n",
      "            sepal_length  sepal_width  petal_length  petal_width\n",
      "species                                                         \n",
      "setosa          4.900000     3.233333      1.366667     0.200000\n",
      "versicolor      6.766667     3.166667      4.700000     1.466667\n",
      "\n",
      "Rounded averages:\n",
      "            sepal_length  sepal_width  petal_length  petal_width\n",
      "species                                                         \n",
      "setosa              4.90         3.23          1.37         0.20\n",
      "versicolor          6.77         3.17          4.70         1.47\n"
     ]
    }
   ],
   "source": [
    "# Title: Group and Aggregate Data\n",
    "# Description: Group the dataset by species (target) and compute the average of each feature.\n",
    "import pandas as pd\n",
    "\n",
    "# Sample DataFrame - replace with your actual data\n",
    "data = {\n",
    "    'sepal_length': [5.1, 4.9, 4.7, 7.0, 6.4, 6.9],\n",
    "    'sepal_width': [3.5, 3.0, 3.2, 3.2, 3.2, 3.1],\n",
    "    'petal_length': [1.4, 1.4, 1.3, 4.7, 4.5, 4.9],\n",
    "    'petal_width': [0.2, 0.2, 0.2, 1.4, 1.5, 1.5],\n",
    "    'species': ['setosa', 'setosa', 'setosa', 'versicolor', 'versicolor', 'versicolor']\n",
    "}\n",
    "df = pd.DataFrame(data)\n",
    "\n",
    "# Group by species and calculate mean for each feature\n",
    "grouped_means = df.groupby('species').mean()\n",
    "\n",
    "# Display results\n",
    "print(\"Average features by species:\")\n",
    "print(grouped_means)\n",
    "\n",
    "# Optional: Round the results for cleaner display\n",
    "print(\"\\nRounded averages:\")\n",
    "print(grouped_means.round(2))"
   ]
  }
 ],
 "metadata": {
  "kernelspec": {
   "display_name": ".venv",
   "language": "python",
   "name": "python3"
  },
  "language_info": {
   "codemirror_mode": {
    "name": "ipython",
    "version": 3
   },
   "file_extension": ".py",
   "mimetype": "text/x-python",
   "name": "python",
   "nbconvert_exporter": "python",
   "pygments_lexer": "ipython3",
   "version": "3.10.12"
  }
 },
 "nbformat": 4,
 "nbformat_minor": 2
}
