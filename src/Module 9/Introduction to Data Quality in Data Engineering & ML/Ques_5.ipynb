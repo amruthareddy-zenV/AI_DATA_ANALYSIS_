{
 "cells": [
  {
   "cell_type": "markdown",
   "metadata": {},
   "source": [
    "### Implement Data Quality Controls in a Machine Learning Pipeline\n",
    "**Description**: Integrate data quality checks directly into a machine learning pipeline using a framework like DAMA DMBOK."
   ]
  },
  {
   "cell_type": "code",
   "execution_count": null,
   "metadata": {},
   "outputs": [],
   "source": [
    "# Write your code from here"
   ]
  },
  {
   "cell_type": "code",
   "execution_count": 1,
   "metadata": {},
   "outputs": [],
   "source": [
    "def check_data_quality(data):\n",
    "    \"\"\"\n",
    "    Perform basic data quality checks on the given dataset.\n",
    "\n",
    "    Parameters:\n",
    "    data (pd.DataFrame): The dataset to check.\n",
    "\n",
    "    Returns:\n",
    "    dict: A dictionary containing the results of the quality checks.\n",
    "    \"\"\"\n",
    "    quality_checks = {\n",
    "        'missing_values': data.isnull().sum().sum(),\n",
    "        'duplicate_rows': data.duplicated().sum(),\n",
    "        'total_rows': len(data),\n",
    "        'total_columns': len(data.columns)\n",
    "    }\n",
    "    return quality_checks"
   ]
  }
 ],
 "metadata": {
  "kernelspec": {
   "display_name": "Python 3",
   "language": "python",
   "name": "python3"
  },
  "language_info": {
   "codemirror_mode": {
    "name": "ipython",
    "version": 3
   },
   "file_extension": ".py",
   "mimetype": "text/x-python",
   "name": "python",
   "nbconvert_exporter": "python",
   "pygments_lexer": "ipython3",
   "version": "3.10.12"
  }
 },
 "nbformat": 4,
 "nbformat_minor": 2
}
