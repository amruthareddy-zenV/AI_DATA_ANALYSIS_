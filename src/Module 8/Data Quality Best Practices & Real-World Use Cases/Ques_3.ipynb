{
 "cells": [
  {
   "cell_type": "markdown",
   "metadata": {},
   "source": [
    "### Finance – Ensuring Accurate Transactions\n",
    "\n",
    "**Task 1**: Transaction Data Validation Insights\n",
    "\n",
    "**Objective**: Maintain transaction integrity.\n",
    "\n",
    "**Steps**:\n",
    "1. Choose a sample financial transaction dataset.\n",
    "2. Identify common transaction issues like duplicate entries or incorrect amounts.\n",
    "3. Develop a list of validation checks specific to financial transactions."
   ]
  },
  {
   "cell_type": "code",
   "execution_count": null,
   "metadata": {},
   "outputs": [],
   "source": [
    "# Write your code from here"
   ]
  },
  {
   "cell_type": "code",
   "execution_count": 1,
   "metadata": {},
   "outputs": [
    {
     "name": "stdout",
     "output_type": "stream",
     "text": [
      "Duplicate Transactions:\n",
      "   TransactionID  Amount        Date\n",
      "1              2   200.0  2023-01-02\n",
      "5              2   200.0  2023-01-02\n",
      "\n",
      "Transactions with Invalid Amounts:\n",
      "   TransactionID  Amount        Date\n",
      "2              3   -50.0  2023-01-03\n"
     ]
    }
   ],
   "source": [
    "import pandas as pd\n",
    "\n",
    "# Sample financial transaction dataset\n",
    "data = {\n",
    "    'TransactionID': [1, 2, 3, 4, 5, 2],\n",
    "    'Amount': [100.0, 200.0, -50.0, 300.0, 400.0, 200.0],\n",
    "    'Date': ['2023-01-01', '2023-01-02', '2023-01-03', '2023-01-04', '2023-01-05', '2023-01-02']\n",
    "}\n",
    "\n",
    "# Create a DataFrame\n",
    "transactions = pd.DataFrame(data)\n",
    "\n",
    "# Check for duplicate TransactionIDs\n",
    "duplicates = transactions[transactions.duplicated(subset='TransactionID', keep=False)]\n",
    "\n",
    "# Check for invalid amounts (e.g., negative values)\n",
    "invalid_amounts = transactions[transactions['Amount'] <= 0]\n",
    "\n",
    "# Display issues\n",
    "print(\"Duplicate Transactions:\")\n",
    "print(duplicates)\n",
    "\n",
    "print(\"\\nTransactions with Invalid Amounts:\")\n",
    "print(invalid_amounts)"
   ]
  },
  {
   "cell_type": "markdown",
   "metadata": {},
   "source": [
    "**Task 2**: Implement Financial Data Validation\n",
    "\n",
    "**Objective**: Use automated tools to ensure transaction accuracy.\n",
    "\n",
    "**Steps**:\n",
    "1. Integrate data validation rules into your existing financial systems.\n",
    "2. Ensure real-time checks to validate data upon entry."
   ]
  },
  {
   "cell_type": "code",
   "execution_count": null,
   "metadata": {},
   "outputs": [],
   "source": [
    "# Write your code from here\n"
   ]
  },
  {
   "cell_type": "code",
   "execution_count": 2,
   "metadata": {},
   "outputs": [
    {
     "name": "stdout",
     "output_type": "stream",
     "text": [
      "Validated Transactions:\n",
      "   TransactionID  Amount        Date\n",
      "0              1   100.0  2023-01-01\n",
      "1              2   200.0  2023-01-02\n",
      "3              4   300.0  2023-01-04\n",
      "4              5   400.0  2023-01-05\n"
     ]
    }
   ],
   "source": [
    "# Resolve duplicate transactions by keeping the first occurrence\n",
    "resolved_transactions = transactions.drop_duplicates(subset='TransactionID', keep='first')\n",
    "\n",
    "# Remove transactions with invalid amounts\n",
    "validated_transactions = resolved_transactions[resolved_transactions['Amount'] > 0]\n",
    "\n",
    "# Display the cleaned and validated transactions\n",
    "print(\"Validated Transactions:\")\n",
    "print(validated_transactions)"
   ]
  }
 ],
 "metadata": {
  "kernelspec": {
   "display_name": ".venv",
   "language": "python",
   "name": "python3"
  },
  "language_info": {
   "codemirror_mode": {
    "name": "ipython",
    "version": 3
   },
   "file_extension": ".py",
   "mimetype": "text/x-python",
   "name": "python",
   "nbconvert_exporter": "python",
   "pygments_lexer": "ipython3",
   "version": "3.10.12"
  }
 },
 "nbformat": 4,
 "nbformat_minor": 2
}
