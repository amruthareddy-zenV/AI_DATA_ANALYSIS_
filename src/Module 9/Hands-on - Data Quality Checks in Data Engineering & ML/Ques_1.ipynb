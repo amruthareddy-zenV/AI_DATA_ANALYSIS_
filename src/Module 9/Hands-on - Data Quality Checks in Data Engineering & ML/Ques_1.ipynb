{
 "cells": [
  {
   "cell_type": "markdown",
   "metadata": {},
   "source": [
    "### Detect Data Drift using Kolmogorov-Smirnov Test\n",
    "**Description**: Use statistical tests to detect data drift between two datasets."
   ]
  },
  {
   "cell_type": "code",
   "execution_count": null,
   "metadata": {},
   "outputs": [],
   "source": [
    "# write your code from here"
   ]
  },
  {
   "cell_type": "code",
   "execution_count": 1,
   "metadata": {},
   "outputs": [
    {
     "name": "stdout",
     "output_type": "stream",
     "text": [
      "KS Statistic: 0.191\n",
      "P-value: 2.332572779609904e-16\n",
      "Data drift detected (statistically significant difference).\n"
     ]
    }
   ],
   "source": [
    "from scipy.stats import ks_2samp\n",
    "import numpy as np\n",
    "\n",
    "# Example datasets\n",
    "data1 = np.random.normal(0, 1, 1000)  # Dataset 1\n",
    "data2 = np.random.normal(0.5, 1, 1000)  # Dataset 2\n",
    "\n",
    "# Perform the Kolmogorov-Smirnov test\n",
    "statistic, p_value = ks_2samp(data1, data2)\n",
    "\n",
    "# Print the results\n",
    "print(f\"KS Statistic: {statistic}\")\n",
    "print(f\"P-value: {p_value}\")\n",
    "\n",
    "# Check for data drift\n",
    "if p_value < 0.05:\n",
    "    print(\"Data drift detected (statistically significant difference).\")\n",
    "else:\n",
    "    print(\"No data drift detected.\")"
   ]
  }
 ],
 "metadata": {
  "kernelspec": {
   "display_name": "Python 3",
   "language": "python",
   "name": "python3"
  },
  "language_info": {
   "codemirror_mode": {
    "name": "ipython",
    "version": 3
   },
   "file_extension": ".py",
   "mimetype": "text/x-python",
   "name": "python",
   "nbconvert_exporter": "python",
   "pygments_lexer": "ipython3",
   "version": "3.10.12"
  }
 },
 "nbformat": 4,
 "nbformat_minor": 2
}
