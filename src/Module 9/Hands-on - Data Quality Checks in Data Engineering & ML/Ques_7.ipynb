{
 "cells": [
  {
   "cell_type": "markdown",
   "metadata": {},
   "source": [
    "### Detect Data Drift in ML Models\n",
    "**Objective**: Monitor and detect changes in data distributions that impact ML model performance.\n",
    "\n",
    "**Task**: Feature Correlation Drift\n",
    "\n",
    "**Steps**:\n",
    "1. Compute the correlation matrix of features in your training dataset.\n",
    "2. Compute the correlation matrix of the same features in your production data.\n",
    "3. Assess changes in the correlation matrix over time to identify any significant deviations.\n",
    "4. Investigate any significant changes in correlation as they may indicate issues in the data collection process or model assumptions."
   ]
  },
  {
   "cell_type": "code",
   "execution_count": null,
   "metadata": {},
   "outputs": [],
   "source": [
    "# write your code from here\n"
   ]
  },
  {
   "cell_type": "code",
   "execution_count": 1,
   "metadata": {},
   "outputs": [
    {
     "name": "stdout",
     "output_type": "stream",
     "text": [
      "Training Correlation Matrix:\n",
      "          Feature1  Feature2  Feature3\n",
      "Feature1  1.000000  0.113099 -0.011001\n",
      "Feature2  0.113099  1.000000  0.111595\n",
      "Feature3 -0.011001  0.111595  1.000000\n",
      "\n",
      "Production Correlation Matrix:\n",
      "          Feature1  Feature2  Feature3\n",
      "Feature1  1.000000 -0.057333 -0.100406\n",
      "Feature2 -0.057333  1.000000  0.123241\n",
      "Feature3 -0.100406  0.123241  1.000000\n"
     ]
    }
   ],
   "source": [
    "import pandas as pd\n",
    "import numpy as np\n",
    "\n",
    "# Example training dataset\n",
    "training_data = pd.DataFrame({\n",
    "    'Feature1': np.random.rand(100),\n",
    "    'Feature2': np.random.rand(100),\n",
    "    'Feature3': np.random.rand(100)\n",
    "})\n",
    "\n",
    "# Example production dataset\n",
    "production_data = pd.DataFrame({\n",
    "    'Feature1': np.random.rand(100),\n",
    "    'Feature2': np.random.rand(100),\n",
    "    'Feature3': np.random.rand(100)\n",
    "})\n",
    "\n",
    "# Compute correlation matrices\n",
    "training_corr = training_data.corr()\n",
    "production_corr = production_data.corr()\n",
    "\n",
    "# Display correlation matrices\n",
    "print(\"Training Correlation Matrix:\")\n",
    "print(training_corr)\n",
    "\n",
    "print(\"\\nProduction Correlation Matrix:\")\n",
    "print(production_corr)"
   ]
  }
 ],
 "metadata": {
  "kernelspec": {
   "display_name": "Python 3",
   "language": "python",
   "name": "python3"
  },
  "language_info": {
   "codemirror_mode": {
    "name": "ipython",
    "version": 3
   },
   "file_extension": ".py",
   "mimetype": "text/x-python",
   "name": "python",
   "nbconvert_exporter": "python",
   "pygments_lexer": "ipython3",
   "version": "3.10.12"
  }
 },
 "nbformat": 4,
 "nbformat_minor": 2
}
