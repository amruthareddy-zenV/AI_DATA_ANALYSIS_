{
 "cells": [
  {
   "cell_type": "markdown",
   "metadata": {},
   "source": [
    "## Data Quality Framework Implementation\n",
    "\n",
    "**Description**: Implement a simple data quality measurement framework using ISO 8000 principles to assess key dimensions in a dataset."
   ]
  },
  {
   "cell_type": "code",
   "execution_count": 4,
   "metadata": {},
   "outputs": [],
   "source": [
    "# Write a conceptual framework described in Python pseudo-code:"
   ]
  },
  {
   "cell_type": "code",
   "execution_count": 5,
   "metadata": {},
   "outputs": [],
   "source": [
    "# Define a DataQualityFramework class to assess key dimensions of data quality\n",
    "class DataQualityFramework:\n",
    "    def __init__(self, data):\n",
    "        self.data = data\n",
    "\n",
    "    def completeness(self):\n",
    "        \"\"\"Measure the completeness of the dataset.\"\"\"\n",
    "        total_cells = self.data.size\n",
    "        missing_cells = self.data.isnull().sum().sum()\n",
    "        completeness_score = ((total_cells - missing_cells) / total_cells) * 100\n",
    "        return completeness_score\n",
    "\n",
    "    def uniqueness(self, column):\n",
    "        \"\"\"Measure the uniqueness of a specific column.\"\"\"\n",
    "        unique_values = self.data[column].nunique()\n",
    "        total_values = len(self.data[column])\n",
    "        uniqueness_score = (unique_values / total_values) * 100\n",
    "        return uniqueness_score\n",
    "\n",
    "    def validity(self, column, valid_values):\n",
    "        \"\"\"Measure the validity of a specific column based on valid values.\"\"\"\n",
    "        valid_count = self.data[column].isin(valid_values).sum()\n",
    "        total_count = len(self.data[column])\n",
    "        validity_score = (valid_count / total_count) * 100\n",
    "        return validity_score\n",
    "\n",
    "    def accuracy(self, column, reference_data):\n",
    "        \"\"\"Measure the accuracy of a specific column compared to reference data.\"\"\"\n",
    "        accurate_count = self.data[column].isin(reference_data).sum()\n",
    "        total_count = len(self.data[column])\n",
    "        accuracy_score = (accurate_count / total_count) * 100\n",
    "        return accuracy_score\n",
    "\n",
    "    def timeliness(self, column, reference_date):\n",
    "        \"\"\"Measure the timeliness of a specific column based on a reference date.\"\"\"\n",
    "        timely_count = self.data[column] <= reference_date\n",
    "        timeliness_score = (timely_count.sum() / len(self.data[column])) * 100\n",
    "        return timeliness_score"
   ]
  }
 ],
 "metadata": {
  "kernelspec": {
   "display_name": ".venv",
   "language": "python",
   "name": "python3"
  },
  "language_info": {
   "codemirror_mode": {
    "name": "ipython",
    "version": 3
   },
   "file_extension": ".py",
   "mimetype": "text/x-python",
   "name": "python",
   "nbconvert_exporter": "python",
   "pygments_lexer": "ipython3",
   "version": "3.10.12"
  }
 },
 "nbformat": 4,
 "nbformat_minor": 2
}
