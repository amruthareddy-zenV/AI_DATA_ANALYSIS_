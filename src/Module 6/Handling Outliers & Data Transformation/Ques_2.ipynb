{
 "cells": [
  {
   "cell_type": "code",
   "execution_count": 1,
   "metadata": {},
   "outputs": [
    {
     "ename": "ImportError",
     "evalue": "cannot import name 'winsorize' from 'scipy.stats' (/workspaces/AI_DATA_ANALYSIS_/.venv/lib/python3.10/site-packages/scipy/stats/__init__.py)",
     "output_type": "error",
     "traceback": [
      "\u001b[0;31m---------------------------------------------------------------------------\u001b[0m",
      "\u001b[0;31mImportError\u001b[0m                               Traceback (most recent call last)",
      "Cell \u001b[0;32mIn[1], line 6\u001b[0m\n\u001b[1;32m      4\u001b[0m \u001b[38;5;28;01mimport\u001b[39;00m\u001b[38;5;250m \u001b[39m\u001b[38;5;21;01mpandas\u001b[39;00m\u001b[38;5;250m \u001b[39m\u001b[38;5;28;01mas\u001b[39;00m\u001b[38;5;250m \u001b[39m\u001b[38;5;21;01mpd\u001b[39;00m\n\u001b[1;32m      5\u001b[0m \u001b[38;5;28;01mimport\u001b[39;00m\u001b[38;5;250m \u001b[39m\u001b[38;5;21;01mnumpy\u001b[39;00m\u001b[38;5;250m \u001b[39m\u001b[38;5;28;01mas\u001b[39;00m\u001b[38;5;250m \u001b[39m\u001b[38;5;21;01mnp\u001b[39;00m\n\u001b[0;32m----> 6\u001b[0m \u001b[38;5;28;01mfrom\u001b[39;00m\u001b[38;5;250m \u001b[39m\u001b[38;5;21;01mscipy\u001b[39;00m\u001b[38;5;21;01m.\u001b[39;00m\u001b[38;5;21;01mstats\u001b[39;00m\u001b[38;5;250m \u001b[39m\u001b[38;5;28;01mimport\u001b[39;00m winsorize\n\u001b[1;32m      7\u001b[0m \u001b[38;5;28;01mimport\u001b[39;00m\u001b[38;5;250m \u001b[39m\u001b[38;5;21;01mmatplotlib\u001b[39;00m\u001b[38;5;21;01m.\u001b[39;00m\u001b[38;5;21;01mpyplot\u001b[39;00m\u001b[38;5;250m \u001b[39m\u001b[38;5;28;01mas\u001b[39;00m\u001b[38;5;250m \u001b[39m\u001b[38;5;21;01mplt\u001b[39;00m\n\u001b[1;32m      8\u001b[0m \u001b[38;5;28;01mimport\u001b[39;00m\u001b[38;5;250m \u001b[39m\u001b[38;5;21;01mseaborn\u001b[39;00m\u001b[38;5;250m \u001b[39m\u001b[38;5;28;01mas\u001b[39;00m\u001b[38;5;250m \u001b[39m\u001b[38;5;21;01msns\u001b[39;00m\n",
      "\u001b[0;31mImportError\u001b[0m: cannot import name 'winsorize' from 'scipy.stats' (/workspaces/AI_DATA_ANALYSIS_/.venv/lib/python3.10/site-packages/scipy/stats/__init__.py)"
     ]
    }
   ],
   "source": [
    "# Question: Winsorization of Data\n",
    "# Description: Apply Winsorization to a given dataset to handle outliers.\n",
    "# Import necessary libraries\n",
    "import pandas as pd\n",
    "import numpy as np\n",
    "from scipy.stats import winsorize\n",
    "import matplotlib.pyplot as plt\n",
    "import seaborn as sns\n",
    "\n",
    "# --- Create a sample dataset with outliers ---\n",
    "# Let's create a dataset with some values that are clearly outside the typical range\n",
    "data = {'Values': [10, 12, 15, 18, 20, 22, 25, 28, 30, 100, -5, 32, 35, 40, 45, 50]}\n",
    "df = pd.DataFrame(data)\n",
    "\n",
    "print(\"Original Data:\")\n",
    "print(df)\n",
    "print(\"\\nOriginal Data Description:\")\n",
    "print(df.describe())\n",
    "\n",
    "# --- Visualize the original data using a boxplot to see outliers ---\n",
    "# Boxplots are a great way to visually identify potential outliers.\n",
    "plt.figure(figsize=(8, 4))\n",
    "sns.boxplot(x=df['Values'])\n",
    "plt.title('Boxplot of Original Data')\n",
    "plt.xlabel('Values')\n",
    "plt.show()\n",
    "\n",
    "# --- Apply Winsorization ---\n",
    "# We will winsorize at the 10th percentile from the lower tail\n",
    "# and the 90th percentile from the upper tail.\n",
    "# The 'limits' parameter is a tuple (lower_limit, upper_limit).\n",
    "# These limits are expressed as fractions of the data size.\n",
    "# So, 0.1 means 10% from the lower end, and 0.1 means 10% from the upper end.\n",
    "# This is equivalent to capping at the 10th and 90th percentiles.\n",
    "winsorized_values = winsorize(df['Values'], limits=[0.10, 0.10])\n",
    "\n",
    "# Create a new DataFrame or add a new column for the winsorized data\n",
    "# We assign the winsorized numpy array back to a new column in the DataFrame.\n",
    "df['Values_Winsorized'] = winsorized_values\n",
    "\n",
    "print(\"\\nData after Winsorization:\")\n",
    "print(df)\n",
    "print(\"\\nWinsorized Data Description:\")\n",
    "# Describe the new winsorized column to see the effect on statistics.\n",
    "print(df['Values_Winsorized'].describe())\n",
    "\n",
    "# --- Visualize the winsorized data using a boxplot ---\n",
    "# Plot the boxplot of the winsorized data to see how the outliers have been handled.\n",
    "plt.figure(figsize=(8, 4))\n",
    "sns.boxplot(x=df['Values_Winsorized'])\n",
    "plt.title('Boxplot of Winsorized Data')\n",
    "plt.xlabel('Values (Winsorized)')\n",
    "plt.show()\n",
    "\n",
    "# --- Interpretation ---\n",
    "# Compare the boxplots and the describe() outputs for the original and winsorized data.\n",
    "# You should observe that the extreme values (100 and -5 in this example)\n",
    "# have been replaced by values closer to the main body of the data (the 10th and 90th percentiles).\n",
    "# The whiskers in the winsorized boxplot will likely be shorter,\n",
    "# and the extreme points will no longer appear as individual markers outside the whiskers,\n",
    "# indicating that the outliers have been capped.\n",
    "\n"
   ]
  },
  {
   "cell_type": "code",
   "execution_count": null,
   "metadata": {},
   "outputs": [],
   "source": []
  }
 ],
 "metadata": {
  "kernelspec": {
   "display_name": ".venv",
   "language": "python",
   "name": "python3"
  },
  "language_info": {
   "codemirror_mode": {
    "name": "ipython",
    "version": 3
   },
   "file_extension": ".py",
   "mimetype": "text/x-python",
   "name": "python",
   "nbconvert_exporter": "python",
   "pygments_lexer": "ipython3",
   "version": "3.10.12"
  }
 },
 "nbformat": 4,
 "nbformat_minor": 2
}
