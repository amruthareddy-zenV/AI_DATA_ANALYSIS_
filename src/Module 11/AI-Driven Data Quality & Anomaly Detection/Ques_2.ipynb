{
 "cells": [
  {
   "cell_type": "markdown",
   "metadata": {},
   "source": [
    "# Automated Anomaly Detection\n",
    "**Objective**: Understand and practice automated anomaly detection using various techniques.\n",
    "\n",
    "**Task**: Anomaly Detection with Isolation Forest\n",
    "\n",
    "**Steps**:\n",
    "1. Data Set: Obtain a dataset of server response times.\n",
    "2. Train Model: Use Isolation Forest to train a model on the response time data.\n",
    "3. Detect Anomalies: Predict which response times are anomalies.\n",
    "4. Evaluate Results: Assess the number of anomalies detected."
   ]
  },
  {
   "cell_type": "code",
   "execution_count": null,
   "metadata": {},
   "outputs": [],
   "source": [
    "# write your code from here\n"
   ]
  },
  {
   "cell_type": "code",
   "execution_count": 1,
   "metadata": {},
   "outputs": [
    {
     "name": "stdout",
     "output_type": "stream",
     "text": [
      "Predictions: [ 1  1  1  1  1  1 -1 -1  1  1  1  1  1  1  1]\n"
     ]
    }
   ],
   "source": [
    "from sklearn.ensemble import IsolationForest\n",
    "import numpy as np\n",
    "\n",
    "# Simulated dataset of server response times (in milliseconds)\n",
    "response_times = np.array([120, 130, 125, 140, 150, 200, 300, 1000, 110, 115, 118, 122, 128, 135, 145]).reshape(-1, 1)\n",
    "\n",
    "# Initialize the Isolation Forest model\n",
    "iso_forest = IsolationForest(contamination=0.1, random_state=42)\n",
    "\n",
    "# Fit the model to the data\n",
    "iso_forest.fit(response_times)\n",
    "\n",
    "# Predict anomalies (-1 indicates anomaly, 1 indicates normal)\n",
    "predictions = iso_forest.predict(response_times)\n",
    "\n",
    "# Print the predictions\n",
    "print(\"Predictions:\", predictions)"
   ]
  }
 ],
 "metadata": {
  "kernelspec": {
   "display_name": "Python 3",
   "language": "python",
   "name": "python3"
  },
  "language_info": {
   "codemirror_mode": {
    "name": "ipython",
    "version": 3
   },
   "file_extension": ".py",
   "mimetype": "text/x-python",
   "name": "python",
   "nbconvert_exporter": "python",
   "pygments_lexer": "ipython3",
   "version": "3.10.12"
  }
 },
 "nbformat": 4,
 "nbformat_minor": 2
}
