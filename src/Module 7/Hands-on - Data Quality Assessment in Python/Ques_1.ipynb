{
 "cells": [
  {
   "cell_type": "markdown",
   "metadata": {},
   "source": [
    "**Task 1**: Checking Null Values for Completeness\n",
    "\n",
    "**Description**: Verify if there are any null values in a dataset, which indicate incomplete data."
   ]
  },
  {
   "cell_type": "code",
   "execution_count": null,
   "metadata": {},
   "outputs": [],
   "source": [
    "# Write your code from here"
   ]
  },
  {
   "cell_type": "code",
   "execution_count": 1,
   "metadata": {},
   "outputs": [
    {
     "name": "stdout",
     "output_type": "stream",
     "text": [
      "Null values in each column:\n",
      "Name     1\n",
      "Age      1\n",
      "Email    1\n",
      "dtype: int64\n"
     ]
    }
   ],
   "source": [
    "import pandas as pd\n",
    "\n",
    "# Example dataset\n",
    "data = {\n",
    "    'Name': ['Alice', 'Bob', None, 'David'],\n",
    "    'Age': [25, None, 35, 40],\n",
    "    'Email': ['alice@example.com', 'bob@example.com', None, 'david@example.com']\n",
    "}\n",
    "\n",
    "# Create a DataFrame\n",
    "df = pd.DataFrame(data)\n",
    "\n",
    "# Check for null values\n",
    "null_values = df.isnull().sum()\n",
    "\n",
    "# Display the null values count for each column\n",
    "print(\"Null values in each column:\")\n",
    "print(null_values)"
   ]
  },
  {
   "cell_type": "markdown",
   "metadata": {},
   "source": [
    "**Task 2**: Checking Data Type Validity\n",
    "\n",
    "**Description**: Ensure that columns contain data of expected types, e.g., ages are integers."
   ]
  },
  {
   "cell_type": "code",
   "execution_count": null,
   "metadata": {},
   "outputs": [],
   "source": [
    "# Write your code from here"
   ]
  },
  {
   "cell_type": "code",
   "execution_count": 2,
   "metadata": {},
   "outputs": [
    {
     "name": "stdout",
     "output_type": "stream",
     "text": [
      "Data type validity check:\n",
      "Name     True\n",
      "Age      True\n",
      "Email    True\n",
      "dtype: bool\n"
     ]
    }
   ],
   "source": [
    "# Check if the data types of each column are as expected\n",
    "expected_dtypes = {\n",
    "    'Name': 'object',\n",
    "    'Age': 'float64',\n",
    "    'Email': 'object'\n",
    "}\n",
    "\n",
    "# Compare the actual dtypes with the expected dtypes\n",
    "dtype_validity = df.dtypes == pd.Series(expected_dtypes)\n",
    "\n",
    "# Display the result of the data type validity check\n",
    "print(\"Data type validity check:\")\n",
    "print(dtype_validity)"
   ]
  },
  {
   "cell_type": "markdown",
   "metadata": {},
   "source": [
    "**Task 3**: Verify Uniqueness of Identifiers\n",
    "\n",
    "**Description**: Check if a dataset has unique identifiers (e.g., emails)."
   ]
  },
  {
   "cell_type": "code",
   "execution_count": null,
   "metadata": {},
   "outputs": [],
   "source": [
    "# Write your code from here"
   ]
  },
  {
   "cell_type": "code",
   "execution_count": 3,
   "metadata": {},
   "outputs": [
    {
     "name": "stdout",
     "output_type": "stream",
     "text": [
      "Are email addresses unique?\n",
      "True\n"
     ]
    }
   ],
   "source": [
    "# Check if the 'Email' column contains unique values\n",
    "email_uniqueness = df['Email'].is_unique\n",
    "\n",
    "# Display the result of the uniqueness check\n",
    "print(\"Are email addresses unique?\")\n",
    "print(email_uniqueness)"
   ]
  },
  {
   "cell_type": "markdown",
   "metadata": {},
   "source": [
    "Task 4: Validate Email Format Using Regex\n",
    "\n",
    "Description: Validate if email addresses in a dataset have the correct format."
   ]
  },
  {
   "cell_type": "code",
   "execution_count": null,
   "metadata": {},
   "outputs": [],
   "source": [
    "# Write your code from here"
   ]
  },
  {
   "cell_type": "code",
   "execution_count": 4,
   "metadata": {},
   "outputs": [
    {
     "name": "stdout",
     "output_type": "stream",
     "text": [
      "DataFrame with email validity check:\n",
      "    Name   Age              Email  Email_Valid\n",
      "0  Alice  25.0  alice@example.com         True\n",
      "1    Bob   NaN    bob@example.com         True\n",
      "2   None  35.0               None        False\n",
      "3  David  40.0  david@example.com         True\n"
     ]
    }
   ],
   "source": [
    "import re\n",
    "\n",
    "# Define a function to validate email format using regex\n",
    "def validate_email_format(email):\n",
    "    if email is None:\n",
    "        return False\n",
    "    email_regex = r'^[a-zA-Z0-9._%+-]+@[a-zA-Z0-9.-]+\\.[a-zA-Z]{2,}$'\n",
    "    return bool(re.match(email_regex, email))\n",
    "\n",
    "# Apply the function to the 'Email' column\n",
    "df['Email_Valid'] = df['Email'].apply(validate_email_format)\n",
    "\n",
    "# Display the DataFrame with the new column indicating email validity\n",
    "print(\"DataFrame with email validity check:\")\n",
    "print(df)"
   ]
  },
  {
   "cell_type": "markdown",
   "metadata": {},
   "source": [
    "Task 5: Check for Logical Age Validity\n",
    "\n",
    "Description: Ensure ages are within a reasonable human range (e.g., 0-120)."
   ]
  },
  {
   "cell_type": "code",
   "execution_count": null,
   "metadata": {},
   "outputs": [],
   "source": [
    "# Write your code from here"
   ]
  },
  {
   "cell_type": "code",
   "execution_count": 5,
   "metadata": {},
   "outputs": [
    {
     "name": "stdout",
     "output_type": "stream",
     "text": [
      "DataFrame with age validity check:\n",
      "    Name   Age              Email  Email_Valid  Age_Valid\n",
      "0  Alice  25.0  alice@example.com         True       True\n",
      "1    Bob   NaN    bob@example.com         True      False\n",
      "2   None  35.0               None        False       True\n",
      "3  David  40.0  david@example.com         True       True\n"
     ]
    }
   ],
   "source": [
    "# Check if the values in the 'Age' column are within a reasonable human range (0-120)\n",
    "def is_age_valid(age):\n",
    "    if age is None:\n",
    "        return False\n",
    "    return 0 <= age <= 120\n",
    "\n",
    "# Apply the function to the 'Age' column\n",
    "df['Age_Valid'] = df['Age'].apply(is_age_valid)\n",
    "\n",
    "# Display the DataFrame with the new column indicating age validity\n",
    "print(\"DataFrame with age validity check:\")\n",
    "print(df)"
   ]
  },
  {
   "cell_type": "markdown",
   "metadata": {},
   "source": [
    "Task 6: Identify and Handle Missing Data\n",
    "\n",
    "Description: Identify missing values in a dataset and impute them using a simple strategy (e.g., mean)."
   ]
  },
  {
   "cell_type": "code",
   "execution_count": null,
   "metadata": {},
   "outputs": [],
   "source": [
    "# Write your code from here"
   ]
  },
  {
   "cell_type": "code",
   "execution_count": 6,
   "metadata": {},
   "outputs": [
    {
     "name": "stdout",
     "output_type": "stream",
     "text": [
      "DataFrame after imputing missing values:\n",
      "      Name        Age                Email  Email_Valid  Age_Valid\n",
      "0    Alice  25.000000    alice@example.com         True       True\n",
      "1      Bob  33.333333      bob@example.com         True      False\n",
      "2  Unknown  35.000000  unknown@example.com        False       True\n",
      "3    David  40.000000    david@example.com         True       True\n"
     ]
    },
    {
     "name": "stderr",
     "output_type": "stream",
     "text": [
      "/tmp/ipykernel_24170/1028433681.py:5: FutureWarning: A value is trying to be set on a copy of a DataFrame or Series through chained assignment using an inplace method.\n",
      "The behavior will change in pandas 3.0. This inplace method will never work because the intermediate object on which we are setting values always behaves as a copy.\n",
      "\n",
      "For example, when doing 'df[col].method(value, inplace=True)', try using 'df.method({col: value}, inplace=True)' or df[col] = df[col].method(value) instead, to perform the operation inplace on the original object.\n",
      "\n",
      "\n",
      "  df['Age'].fillna(mean_age, inplace=True)\n",
      "/tmp/ipykernel_24170/1028433681.py:8: FutureWarning: A value is trying to be set on a copy of a DataFrame or Series through chained assignment using an inplace method.\n",
      "The behavior will change in pandas 3.0. This inplace method will never work because the intermediate object on which we are setting values always behaves as a copy.\n",
      "\n",
      "For example, when doing 'df[col].method(value, inplace=True)', try using 'df.method({col: value}, inplace=True)' or df[col] = df[col].method(value) instead, to perform the operation inplace on the original object.\n",
      "\n",
      "\n",
      "  df['Name'].fillna('Unknown', inplace=True)\n",
      "/tmp/ipykernel_24170/1028433681.py:9: FutureWarning: A value is trying to be set on a copy of a DataFrame or Series through chained assignment using an inplace method.\n",
      "The behavior will change in pandas 3.0. This inplace method will never work because the intermediate object on which we are setting values always behaves as a copy.\n",
      "\n",
      "For example, when doing 'df[col].method(value, inplace=True)', try using 'df.method({col: value}, inplace=True)' or df[col] = df[col].method(value) instead, to perform the operation inplace on the original object.\n",
      "\n",
      "\n",
      "  df['Email'].fillna('unknown@example.com', inplace=True)\n"
     ]
    }
   ],
   "source": [
    "# Identify missing values and impute them using a simple strategy (e.g., mean for numerical columns)\n",
    "\n",
    "# Impute missing values in the 'Age' column with the mean age\n",
    "mean_age = df['Age'].mean()\n",
    "df['Age'].fillna(mean_age, inplace=True)\n",
    "\n",
    "# Impute missing values in the 'Name' and 'Email' columns with a placeholder\n",
    "df['Name'].fillna('Unknown', inplace=True)\n",
    "df['Email'].fillna('unknown@example.com', inplace=True)\n",
    "\n",
    "# Display the DataFrame after handling missing data\n",
    "print(\"DataFrame after imputing missing values:\")\n",
    "print(df)"
   ]
  },
  {
   "cell_type": "markdown",
   "metadata": {},
   "source": [
    "Task 7: Detect Duplicates\n",
    "\n",
    "Description: Detect duplicate rows in the dataset."
   ]
  },
  {
   "cell_type": "code",
   "execution_count": null,
   "metadata": {},
   "outputs": [],
   "source": [
    "# Write your code from here"
   ]
  },
  {
   "cell_type": "code",
   "execution_count": 7,
   "metadata": {},
   "outputs": [
    {
     "name": "stdout",
     "output_type": "stream",
     "text": [
      "No duplicate rows found in the dataset.\n"
     ]
    }
   ],
   "source": [
    "# Detect duplicate rows in the dataset\n",
    "duplicate_rows = df[df.duplicated()]\n",
    "\n",
    "# Display the duplicate rows, if any\n",
    "if not duplicate_rows.empty:\n",
    "    print(\"Duplicate rows in the dataset:\")\n",
    "    print(duplicate_rows)\n",
    "else:\n",
    "    print(\"No duplicate rows found in the dataset.\")"
   ]
  },
  {
   "cell_type": "markdown",
   "metadata": {},
   "source": [
    "Task 8: Validate Correctness of Numerical Values\n",
    "\n",
    "Description: Ensure numerical columns are within a specified range."
   ]
  },
  {
   "cell_type": "code",
   "execution_count": null,
   "metadata": {},
   "outputs": [],
   "source": [
    "# Write your code from here"
   ]
  },
  {
   "cell_type": "code",
   "execution_count": 8,
   "metadata": {},
   "outputs": [
    {
     "name": "stdout",
     "output_type": "stream",
     "text": [
      "DataFrame with numerical range validity check:\n",
      "      Name        Age                Email  Email_Valid  Age_Valid  \\\n",
      "0    Alice  25.000000    alice@example.com         True       True   \n",
      "1      Bob  33.333333      bob@example.com         True      False   \n",
      "2  Unknown  35.000000  unknown@example.com        False       True   \n",
      "3    David  40.000000    david@example.com         True       True   \n",
      "\n",
      "   Age_In_Range  \n",
      "0          True  \n",
      "1          True  \n",
      "2          True  \n",
      "3          True  \n"
     ]
    }
   ],
   "source": [
    "# Validate numerical columns to ensure they are within a specified range\n",
    "# For this task, we will validate the 'Age' column to ensure all values are between 0 and 120\n",
    "\n",
    "# Define a function to validate numerical values within a specified range\n",
    "def validate_numerical_range(value, min_value, max_value):\n",
    "    if value is None:\n",
    "        return False\n",
    "    return min_value <= value <= max_value\n",
    "\n",
    "# Apply the function to the 'Age' column\n",
    "df['Age_In_Range'] = df['Age'].apply(lambda x: validate_numerical_range(x, 0, 120))\n",
    "\n",
    "# Display the DataFrame with the new column indicating if 'Age' is within the specified range\n",
    "print(\"DataFrame with numerical range validity check:\")\n",
    "print(df)"
   ]
  },
  {
   "cell_type": "markdown",
   "metadata": {},
   "source": [
    "Task 9: Custom Completeness Rule Violation Report\n",
    "\n",
    "Description: Create a report showing which rows violate specific completeness rules, such as mandatory fields being empty."
   ]
  },
  {
   "cell_type": "code",
   "execution_count": null,
   "metadata": {},
   "outputs": [],
   "source": [
    "# Write your code from here"
   ]
  },
  {
   "cell_type": "code",
   "execution_count": 9,
   "metadata": {},
   "outputs": [
    {
     "name": "stdout",
     "output_type": "stream",
     "text": [
      "DataFrame with completeness rule violations report:\n",
      "      Name        Age                Email  \\\n",
      "0    Alice  25.000000    alice@example.com   \n",
      "1      Bob  33.333333      bob@example.com   \n",
      "2  Unknown  35.000000  unknown@example.com   \n",
      "3    David  40.000000    david@example.com   \n",
      "\n",
      "                        Completeness_Violations  \n",
      "0                                 No violations  \n",
      "1                               Age was imputed  \n",
      "2  Name is missing, Email is missing or invalid  \n",
      "3                                 No violations  \n"
     ]
    }
   ],
   "source": [
    "# Custom Completeness Rule Violation Report\n",
    "\n",
    "# Define a function to check for completeness rule violations\n",
    "def check_completeness_violations(row):\n",
    "    violations = []\n",
    "    if row['Name'] == 'Unknown':  # Check if Name is missing\n",
    "        violations.append('Name is missing')\n",
    "    if row['Age'] == mean_age:  # Check if Age was imputed\n",
    "        violations.append('Age was imputed')\n",
    "    if row['Email'] == 'unknown@example.com':  # Check if Email was imputed\n",
    "        violations.append('Email is missing or invalid')\n",
    "    return ', '.join(violations) if violations else 'No violations'\n",
    "\n",
    "# Apply the function to each row of the DataFrame\n",
    "df['Completeness_Violations'] = df.apply(check_completeness_violations, axis=1)\n",
    "\n",
    "# Display the DataFrame with the completeness violations report\n",
    "print(\"DataFrame with completeness rule violations report:\")\n",
    "print(df[['Name', 'Age', 'Email', 'Completeness_Violations']])"
   ]
  },
  {
   "cell_type": "markdown",
   "metadata": {},
   "source": [
    "Task 10: Advanced Regex for Data Validity Check\n",
    "\n",
    "Description: Check for validity with advanced regex patterns, such as validating complex fields with multi-level rules."
   ]
  },
  {
   "cell_type": "code",
   "execution_count": null,
   "metadata": {},
   "outputs": [],
   "source": [
    "# Write your code from here"
   ]
  },
  {
   "cell_type": "code",
   "execution_count": 10,
   "metadata": {},
   "outputs": [
    {
     "name": "stdout",
     "output_type": "stream",
     "text": [
      "Null values in each column:\n",
      "Name     1\n",
      "Age      1\n",
      "Email    1\n",
      "dtype: int64\n",
      "Data type validity check:\n",
      "Name     True\n",
      "Age      True\n",
      "Email    True\n",
      "dtype: bool\n",
      "Are email addresses unique?\n",
      "True\n",
      "DataFrame with email validity check:\n",
      "    Name   Age              Email  Email_Valid\n",
      "0  Alice  25.0  alice@example.com         True\n",
      "1    Bob   NaN    bob@example.com         True\n",
      "2   None  35.0               None        False\n",
      "3  David  40.0  david@example.com         True\n",
      "DataFrame with age validity check:\n",
      "    Name   Age              Email  Email_Valid  Age_Valid\n",
      "0  Alice  25.0  alice@example.com         True       True\n",
      "1    Bob   NaN    bob@example.com         True      False\n",
      "2   None  35.0               None        False       True\n",
      "3  David  40.0  david@example.com         True       True\n",
      "DataFrame after imputing missing values:\n",
      "      Name        Age                Email  Email_Valid  Age_Valid\n",
      "0    Alice  25.000000    alice@example.com         True       True\n",
      "1      Bob  33.333333      bob@example.com         True      False\n",
      "2  Unknown  35.000000  unknown@example.com        False       True\n",
      "3    David  40.000000    david@example.com         True       True\n",
      "No duplicate rows found in the dataset.\n",
      "DataFrame with numerical range validity check:\n",
      "      Name        Age                Email  Email_Valid  Age_Valid  \\\n",
      "0    Alice  25.000000    alice@example.com         True       True   \n",
      "1      Bob  33.333333      bob@example.com         True      False   \n",
      "2  Unknown  35.000000  unknown@example.com        False       True   \n",
      "3    David  40.000000    david@example.com         True       True   \n",
      "\n",
      "   Age_In_Range  \n",
      "0          True  \n",
      "1          True  \n",
      "2          True  \n",
      "3          True  \n",
      "DataFrame with completeness rule violations report:\n",
      "      Name        Age                Email  \\\n",
      "0    Alice  25.000000    alice@example.com   \n",
      "1      Bob  33.333333      bob@example.com   \n",
      "2  Unknown  35.000000  unknown@example.com   \n",
      "3    David  40.000000    david@example.com   \n",
      "\n",
      "                        Completeness_Violations  \n",
      "0                                 No violations  \n",
      "1                               Age was imputed  \n",
      "2  Name is missing, Email is missing or invalid  \n",
      "3                                 No violations  \n"
     ]
    },
    {
     "name": "stderr",
     "output_type": "stream",
     "text": [
      "/tmp/ipykernel_24170/4084170945.py:60: FutureWarning: A value is trying to be set on a copy of a DataFrame or Series through chained assignment using an inplace method.\n",
      "The behavior will change in pandas 3.0. This inplace method will never work because the intermediate object on which we are setting values always behaves as a copy.\n",
      "\n",
      "For example, when doing 'df[col].method(value, inplace=True)', try using 'df.method({col: value}, inplace=True)' or df[col] = df[col].method(value) instead, to perform the operation inplace on the original object.\n",
      "\n",
      "\n",
      "  df['Age'].fillna(mean_age, inplace=True)\n",
      "/tmp/ipykernel_24170/4084170945.py:61: FutureWarning: A value is trying to be set on a copy of a DataFrame or Series through chained assignment using an inplace method.\n",
      "The behavior will change in pandas 3.0. This inplace method will never work because the intermediate object on which we are setting values always behaves as a copy.\n",
      "\n",
      "For example, when doing 'df[col].method(value, inplace=True)', try using 'df.method({col: value}, inplace=True)' or df[col] = df[col].method(value) instead, to perform the operation inplace on the original object.\n",
      "\n",
      "\n",
      "  df['Name'].fillna('Unknown', inplace=True)\n",
      "/tmp/ipykernel_24170/4084170945.py:62: FutureWarning: A value is trying to be set on a copy of a DataFrame or Series through chained assignment using an inplace method.\n",
      "The behavior will change in pandas 3.0. This inplace method will never work because the intermediate object on which we are setting values always behaves as a copy.\n",
      "\n",
      "For example, when doing 'df[col].method(value, inplace=True)', try using 'df.method({col: value}, inplace=True)' or df[col] = df[col].method(value) instead, to perform the operation inplace on the original object.\n",
      "\n",
      "\n",
      "  df['Email'].fillna('unknown@example.com', inplace=True)\n"
     ]
    }
   ],
   "source": [
    "import pandas as pd\n",
    "import numpy as np\n",
    "import re\n",
    "\n",
    "# Import necessary libraries\n",
    "\n",
    "# Define the dataset\n",
    "data = {\n",
    "    'Name': ['Alice', 'Bob', None, 'David'],\n",
    "    'Age': [25, None, 35, 40],\n",
    "    'Email': ['alice@example.com', 'bob@example.com', None, 'david@example.com']\n",
    "}\n",
    "\n",
    "# Create a DataFrame\n",
    "df = pd.DataFrame(data)\n",
    "\n",
    "# Task 1: Checking Null Values for Completeness\n",
    "null_values = df.isnull().sum()\n",
    "print(\"Null values in each column:\")\n",
    "print(null_values)\n",
    "\n",
    "# Task 2: Checking Data Type Validity\n",
    "expected_dtypes = {\n",
    "    'Name': 'object',\n",
    "    'Age': 'float64',\n",
    "    'Email': 'object'\n",
    "}\n",
    "dtype_validity = df.dtypes == pd.Series(expected_dtypes)\n",
    "print(\"Data type validity check:\")\n",
    "print(dtype_validity)\n",
    "\n",
    "# Task 3: Verify Uniqueness of Identifiers\n",
    "email_uniqueness = df['Email'].is_unique\n",
    "print(\"Are email addresses unique?\")\n",
    "print(email_uniqueness)\n",
    "\n",
    "# Task 4: Validate Email Format Using Regex\n",
    "def validate_email_format(email):\n",
    "    if email is None:\n",
    "        return False\n",
    "    email_regex = r'^[a-zA-Z0-9._%+-]+@[a-zA-Z0-9.-]+\\.[a-zA-Z]{2,}$'\n",
    "    return bool(re.match(email_regex, email))\n",
    "\n",
    "df['Email_Valid'] = df['Email'].apply(validate_email_format)\n",
    "print(\"DataFrame with email validity check:\")\n",
    "print(df)\n",
    "\n",
    "# Task 5: Check for Logical Age Validity\n",
    "def is_age_valid(age):\n",
    "    if age is None:\n",
    "        return False\n",
    "    return 0 <= age <= 120\n",
    "\n",
    "df['Age_Valid'] = df['Age'].apply(is_age_valid)\n",
    "print(\"DataFrame with age validity check:\")\n",
    "print(df)\n",
    "\n",
    "# Task 6: Identify and Handle Missing Data\n",
    "mean_age = df['Age'].mean()\n",
    "df['Age'].fillna(mean_age, inplace=True)\n",
    "df['Name'].fillna('Unknown', inplace=True)\n",
    "df['Email'].fillna('unknown@example.com', inplace=True)\n",
    "print(\"DataFrame after imputing missing values:\")\n",
    "print(df)\n",
    "\n",
    "# Task 7: Detect Duplicates\n",
    "duplicate_rows = df[df.duplicated()]\n",
    "if not duplicate_rows.empty:\n",
    "    print(\"Duplicate rows in the dataset:\")\n",
    "    print(duplicate_rows)\n",
    "else:\n",
    "    print(\"No duplicate rows found in the dataset.\")\n",
    "\n",
    "# Task 8: Validate Correctness of Numerical Values\n",
    "def validate_numerical_range(value, min_value, max_value):\n",
    "    if value is None:\n",
    "        return False\n",
    "    return min_value <= value <= max_value\n",
    "\n",
    "df['Age_In_Range'] = df['Age'].apply(lambda x: validate_numerical_range(x, 0, 120))\n",
    "print(\"DataFrame with numerical range validity check:\")\n",
    "print(df)\n",
    "\n",
    "# Task 9: Custom Completeness Rule Violation Report\n",
    "def check_completeness_violations(row):\n",
    "    violations = []\n",
    "    if row['Name'] == 'Unknown':  # Check if Name is missing\n",
    "        violations.append('Name is missing')\n",
    "    if row['Age'] == mean_age:  # Check if Age was imputed\n",
    "        violations.append('Age was imputed')\n",
    "    if row['Email'] == 'unknown@example.com':  # Check if Email was imputed\n",
    "        violations.append('Email is missing or invalid')\n",
    "    return ', '.join(violations) if violations else 'No violations'\n",
    "\n",
    "df['Completeness_Violations'] = df.apply(check_completeness_violations, axis=1)\n",
    "print(\"DataFrame with completeness rule violations report:\")\n",
    "print(df[['Name', 'Age', 'Email', 'Completeness_Violations']])"
   ]
  }
 ],
 "metadata": {
  "kernelspec": {
   "display_name": ".venv",
   "language": "python",
   "name": "python3"
  },
  "language_info": {
   "codemirror_mode": {
    "name": "ipython",
    "version": 3
   },
   "file_extension": ".py",
   "mimetype": "text/x-python",
   "name": "python",
   "nbconvert_exporter": "python",
   "pygments_lexer": "ipython3",
   "version": "3.10.12"
  }
 },
 "nbformat": 4,
 "nbformat_minor": 2
}
