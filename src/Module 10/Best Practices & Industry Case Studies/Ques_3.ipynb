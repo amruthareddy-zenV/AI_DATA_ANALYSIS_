{
 "cells": [
  {
   "cell_type": "markdown",
   "metadata": {},
   "source": [
    "## Real-World Case Studies\n",
    "\n",
    "### Finance - Fraud Detection Models:\n",
    "**Description**: Analyze a financial dataset, define SLAs for data accuracy and\n",
    "completeness, and ensure high data quality for fraud detection models."
   ]
  },
  {
   "cell_type": "code",
   "execution_count": null,
   "metadata": {},
   "outputs": [],
   "source": [
    "# write your code from here"
   ]
  },
  {
   "cell_type": "code",
   "execution_count": 1,
   "metadata": {},
   "outputs": [
    {
     "name": "stdout",
     "output_type": "stream",
     "text": [
      "Data Completeness: 83.33%\n"
     ]
    }
   ],
   "source": [
    "import pandas as pd\n",
    "\n",
    "# Example: Define a function to calculate data completeness\n",
    "def calculate_completeness(data):\n",
    "    \"\"\"\n",
    "    Calculate the completeness of a dataset.\n",
    "    Completeness is defined as the percentage of non-missing values.\n",
    "    \"\"\"\n",
    "    total_values = data.size\n",
    "    non_missing_values = data.count().sum()\n",
    "    completeness_percentage = (non_missing_values / total_values) * 100\n",
    "    return completeness_percentage\n",
    "\n",
    "# Example usage with a sample dataset\n",
    "\n",
    "# Sample dataset\n",
    "data = pd.DataFrame({\n",
    "    'TransactionID': [1, 2, 3, 4],\n",
    "    'Amount': [100, 200, None, 400],\n",
    "    'Fraud': [0, 1, 0, None]\n",
    "})\n",
    "\n",
    "# Calculate and print completeness\n",
    "completeness = calculate_completeness(data)\n",
    "print(f\"Data Completeness: {completeness:.2f}%\")"
   ]
  }
 ],
 "metadata": {
  "kernelspec": {
   "display_name": "Python 3",
   "language": "python",
   "name": "python3"
  },
  "language_info": {
   "codemirror_mode": {
    "name": "ipython",
    "version": 3
   },
   "file_extension": ".py",
   "mimetype": "text/x-python",
   "name": "python",
   "nbconvert_exporter": "python",
   "pygments_lexer": "ipython3",
   "version": "3.10.12"
  }
 },
 "nbformat": 4,
 "nbformat_minor": 2
}
