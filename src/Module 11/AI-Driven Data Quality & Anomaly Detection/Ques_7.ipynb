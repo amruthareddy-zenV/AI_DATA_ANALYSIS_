{
 "cells": [
  {
   "cell_type": "markdown",
   "metadata": {},
   "source": [
    "### Using NLP for Text Data Quality\n",
    "**Objective**: Enhance text data quality using NLP techniques.\n",
    "\n",
    "**Task**: Handling Noisy Text Data\n",
    "\n",
    "**Steps**:\n",
    "1. Data Set: Obtain a dataset with customer reviews containing noise (e.g., random characters).\n",
    "2. Clean Data: Use regex patterns to clean the noise from text data.\n",
    "3. Evaluate: Compare the text before and after cleaning for noise."
   ]
  },
  {
   "cell_type": "code",
   "execution_count": null,
   "metadata": {},
   "outputs": [],
   "source": [
    "# write your code from here\n"
   ]
  },
  {
   "cell_type": "code",
   "execution_count": 1,
   "metadata": {},
   "outputs": [
    {
     "name": "stdout",
     "output_type": "stream",
     "text": [
      "Original Reviews:\n",
      "['Th!s pr0duct is @mazing!!!', 'W0rth every p3nny!!', \"Terr!ble qu@lity, w0n't buy @gain.\", 'Exc3llent s3rv!ce and qu@lity.']\n",
      "\n",
      "Cleaned Reviews:\n",
      "['Ths prduct is mazing', 'Wrth every pnny', 'Terrble qulity wnt buy gain', 'Excllent srvce and qulity']\n"
     ]
    }
   ],
   "source": [
    "import re\n",
    "\n",
    "# Sample dataset with noisy customer reviews\n",
    "reviews = [\n",
    "    \"Th!s pr0duct is @mazing!!!\",\n",
    "    \"W0rth every p3nny!!\",\n",
    "    \"Terr!ble qu@lity, w0n't buy @gain.\",\n",
    "    \"Exc3llent s3rv!ce and qu@lity.\"\n",
    "]\n",
    "\n",
    "# Function to clean noise from text\n",
    "def clean_text(text):\n",
    "    # Remove special characters and numbers, keeping only alphabets and spaces\n",
    "    return re.sub(r'[^a-zA-Z\\s]', '', text)\n",
    "\n",
    "# Clean the reviews\n",
    "cleaned_reviews = [clean_text(review) for review in reviews]\n",
    "\n",
    "# Display the cleaned reviews\n",
    "print(\"Original Reviews:\")\n",
    "print(reviews)\n",
    "print(\"\\nCleaned Reviews:\")\n",
    "print(cleaned_reviews)"
   ]
  }
 ],
 "metadata": {
  "kernelspec": {
   "display_name": "Python 3",
   "language": "python",
   "name": "python3"
  },
  "language_info": {
   "codemirror_mode": {
    "name": "ipython",
    "version": 3
   },
   "file_extension": ".py",
   "mimetype": "text/x-python",
   "name": "python",
   "nbconvert_exporter": "python",
   "pygments_lexer": "ipython3",
   "version": "3.10.12"
  }
 },
 "nbformat": 4,
 "nbformat_minor": 2
}
