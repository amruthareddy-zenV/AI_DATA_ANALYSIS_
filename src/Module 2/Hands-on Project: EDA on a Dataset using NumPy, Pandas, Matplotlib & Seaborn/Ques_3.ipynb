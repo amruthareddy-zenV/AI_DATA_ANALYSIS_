{
 "cells": [
  {
   "cell_type": "code",
   "execution_count": 1,
   "metadata": {},
   "outputs": [
    {
     "ename": "SyntaxError",
     "evalue": "invalid syntax (2839504023.py, line 3)",
     "output_type": "error",
     "traceback": [
      "\u001b[0;36m  Cell \u001b[0;32mIn[1], line 3\u001b[0;36m\u001b[0m\n\u001b[0;31m    ```python\u001b[0m\n\u001b[0m    ^\u001b[0m\n\u001b[0;31mSyntaxError\u001b[0m\u001b[0;31m:\u001b[0m invalid syntax\n"
     ]
    }
   ],
   "source": [
    "# Title: Data Manipulation with Pandas\n",
    "# Description: Add a new column that calculates the ratio of petal length to petal width.\n",
    "```python\n",
    "import pandas as pd\n",
    "\n",
    "# Create sample DataFrame\n",
    "data = {\n",
    "    'petal_length': [1.4, 1.4, 1.3, 1.5, 1.4],\n",
    "    'petal_width': [0.2, 0.2, 0.2, 0.2, 0.2]  # Fixed typo in column name\n",
    "}\n",
    "df = pd.DataFrame(data)\n",
    "\n",
    "# Calculate and add ratio column\n",
    "df['petal_ratio'] = df['petal_length'] / df['petal_width']\n",
    "\n",
    "# Display the result\n",
    "print(df)"
   ]
  }
 ],
 "metadata": {
  "kernelspec": {
   "display_name": ".venv",
   "language": "python",
   "name": "python3"
  },
  "language_info": {
   "codemirror_mode": {
    "name": "ipython",
    "version": 3
   },
   "file_extension": ".py",
   "mimetype": "text/x-python",
   "name": "python",
   "nbconvert_exporter": "python",
   "pygments_lexer": "ipython3",
   "version": "3.10.12"
  }
 },
 "nbformat": 4,
 "nbformat_minor": 2
}
