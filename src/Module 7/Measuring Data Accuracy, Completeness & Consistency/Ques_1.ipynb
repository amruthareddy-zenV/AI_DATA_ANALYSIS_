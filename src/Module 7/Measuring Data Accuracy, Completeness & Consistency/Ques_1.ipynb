{
 "cells": [
  {
   "cell_type": "markdown",
   "metadata": {},
   "source": [
    "### Task 1: Measure Data Accuracy using a Trusted Source\n",
    "\n",
    "**Description**: You have two datasets of product prices: `company_prices.csv` and\n",
    "`trusted_prices.csv` . Check if the prices in `company_prices.csv` match the prices in\n",
    "`trusted_prices.csv` . Assume both files have a \"product_id\" and \"price\" column."
   ]
  },
  {
   "cell_type": "code",
   "execution_count": null,
   "metadata": {},
   "outputs": [],
   "source": [
    "# Write your code from here"
   ]
  },
  {
   "cell_type": "code",
   "execution_count": null,
   "metadata": {},
   "outputs": [],
   "source": [
    "import pandas as pd\n",
    "\n",
    "# Load the datasets\n",
    "company_prices = pd.read_csv('company_prices.csv')\n",
    "trusted_prices = pd.read_csv('trusted_prices.csv')\n",
    "\n",
    "# Merge the datasets on 'product_id' to compare prices\n",
    "merged_data = company_prices.merge(trusted_prices, on='product_id', suffixes=('_company', '_trusted'))\n",
    "\n",
    "# Check for mismatched prices\n",
    "mismatched_prices = merged_data[merged_data['price_company'] != merged_data['price_trusted']]\n",
    "\n",
    "# Display mismatched prices\n",
    "print(\"Mismatched Prices:\")\n",
    "print(mismatched_prices)"
   ]
  },
  {
   "cell_type": "code",
   "execution_count": null,
   "metadata": {},
   "outputs": [],
   "source": [
    "import pandas as pd\n",
    "\n",
    "# Load the datasets\n",
    "try:\n",
    "    company_prices = pd.read_csv('company_prices.csv')\n",
    "    trusted_prices = pd.read_csv('trusted_prices.csv')\n",
    "except FileNotFoundError as e:\n",
    "    print(f\"Error: {e}\")\n",
    "    raise\n",
    "\n",
    "# Ensure the required columns exist in both datasets\n",
    "required_columns = ['product_id', 'price']\n",
    "for df_name, df in [('company_prices', company_prices), ('trusted_prices', trusted_prices)]:\n",
    "    for col in required_columns:\n",
    "        if col not in df.columns:\n",
    "            raise ValueError(f\"Missing required column '{col}' in {df_name}\")\n",
    "\n",
    "# Merge the datasets on 'product_id' to compare prices\n",
    "merged_data = company_prices.merge(trusted_prices, on='product_id', suffixes=('_company', '_trusted'))\n",
    "\n",
    "# Check for mismatched prices\n",
    "mismatched_prices = merged_data[merged_data['price_company'] != merged_data['price_trusted']]\n",
    "\n",
    "# Display mismatched prices\n",
    "if mismatched_prices.empty:\n",
    "    print(\"No mismatched prices found.\")\n",
    "else:\n",
    "    print(\"Mismatched Prices:\")\n",
    "    print(mismatched_prices)"
   ]
  },
  {
   "cell_type": "markdown",
   "metadata": {},
   "source": [
    "### Task 2: Detect Incorrect Values\n",
    "\n",
    "**Description**: In `company_prices.csv` , detect any negative price values which are incorrect values for prices."
   ]
  },
  {
   "cell_type": "code",
   "execution_count": null,
   "metadata": {},
   "outputs": [],
   "source": [
    "# Write your code from here"
   ]
  },
  {
   "cell_type": "code",
   "execution_count": null,
   "metadata": {},
   "outputs": [],
   "source": [
    "# Detect negative price values in company_prices.csv\n",
    "negative_prices = company_prices[company_prices['price'] < 0]\n",
    "\n",
    "# Display negative price values\n",
    "if negative_prices.empty:\n",
    "    print(\"No negative price values found.\")\n",
    "else:\n",
    "    print(\"Negative Price Values:\")\n",
    "    print(negative_prices)"
   ]
  },
  {
   "cell_type": "markdown",
   "metadata": {},
   "source": [
    "### Task 3: Check Missing Data Rates\n",
    "\n",
    "**Description**: Calculate the percentage of missing values in `customer_data.csv` ."
   ]
  },
  {
   "cell_type": "code",
   "execution_count": null,
   "metadata": {},
   "outputs": [],
   "source": [
    "# Write your code from here"
   ]
  },
  {
   "cell_type": "code",
   "execution_count": null,
   "metadata": {},
   "outputs": [],
   "source": [
    "import pandas as pd\n",
    "\n",
    "# Load the customer data\n",
    "try:\n",
    "    customer_data = pd.read_csv('customer_data.csv')\n",
    "except FileNotFoundError as e:\n",
    "    print(f\"Error: {e}\")\n",
    "    raise\n",
    "\n",
    "# Calculate the percentage of missing values for each column\n",
    "missing_data_percentage = customer_data.isnull().mean() * 100\n",
    "\n",
    "# Display the percentage of missing values\n",
    "print(\"Percentage of Missing Values:\")\n",
    "print(missing_data_percentage)"
   ]
  },
  {
   "cell_type": "markdown",
   "metadata": {},
   "source": [
    "### Task 4: Handling Partially Available Records\n",
    "\n",
    "**Description**: In `customer_data.csv` , identify records with missing \"email\" or \"phone number\" and decide whether to drop or fill them."
   ]
  },
  {
   "cell_type": "code",
   "execution_count": null,
   "metadata": {},
   "outputs": [],
   "source": [
    "# Write your code from here"
   ]
  },
  {
   "cell_type": "code",
   "execution_count": null,
   "metadata": {},
   "outputs": [],
   "source": [
    "# Identify records with missing \"email\" or \"phone number\"\n",
    "missing_contact_info = customer_data[customer_data['email'].isnull() | customer_data['phone number'].isnull()]\n",
    "\n",
    "# Display records with missing contact information\n",
    "if missing_contact_info.empty:\n",
    "    print(\"No records with missing contact information found.\")\n",
    "else:\n",
    "    print(\"Records with Missing Contact Information:\")\n",
    "    print(missing_contact_info)\n",
    "\n",
    "# Decide whether to drop or fill them\n",
    "# For this example, let's fill missing values with placeholders\n",
    "customer_data['email'].fillna('no_email_provided@example.com', inplace=True)\n",
    "customer_data['phone number'].fillna('000-000-0000', inplace=True)\n",
    "\n",
    "# Display the updated dataset\n",
    "print(\"Updated Customer Data:\")\n",
    "print(customer_data)"
   ]
  }
 ],
 "metadata": {
  "kernelspec": {
   "display_name": ".venv",
   "language": "python",
   "name": "python3"
  },
  "language_info": {
   "codemirror_mode": {
    "name": "ipython",
    "version": 3
   },
   "file_extension": ".py",
   "mimetype": "text/x-python",
   "name": "python",
   "nbconvert_exporter": "python",
   "pygments_lexer": "ipython3",
   "version": "3.10.12"
  }
 },
 "nbformat": 4,
 "nbformat_minor": 2
}
