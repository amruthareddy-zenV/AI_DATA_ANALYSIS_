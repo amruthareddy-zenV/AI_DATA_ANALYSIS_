{
 "cells": [
  {
   "cell_type": "markdown",
   "metadata": {},
   "source": [
    "## Format Compliance for Email\n",
    "\n",
    "**Description**: Check if emails in a list are valid based on a basic regex pattern."
   ]
  },
  {
   "cell_type": "code",
   "execution_count": null,
   "metadata": {},
   "outputs": [],
   "source": [
    "# Write your code from here"
   ]
  },
  {
   "cell_type": "code",
   "execution_count": 1,
   "metadata": {},
   "outputs": [
    {
     "name": "stdout",
     "output_type": "stream",
     "text": [
      "Valid Emails: ['test@example.com', 'user@domain.org']\n"
     ]
    }
   ],
   "source": [
    "import re\n",
    "\n",
    "# Sample list of emails\n",
    "emails = [\"test@example.com\", \"invalid-email@\", \"user@domain.org\"]\n",
    "\n",
    "# Define a basic regex pattern for email validation\n",
    "email_pattern = r'^[a-zA-Z0-9._%+-]+@[a-zA-Z0-9.-]+\\.[a-zA-Z]{2,}$'\n",
    "\n",
    "# Validate emails\n",
    "valid_emails = [email for email in emails if re.match(email_pattern, email)]\n",
    "\n",
    "print(\"Valid Emails:\", valid_emails)"
   ]
  },
  {
   "cell_type": "markdown",
   "metadata": {},
   "source": [
    "## Format Compliance for Phone Numbers\n",
    "\n",
    "**Description**: Verify if the phone numbers follow a specific pattern."
   ]
  },
  {
   "cell_type": "code",
   "execution_count": null,
   "metadata": {},
   "outputs": [],
   "source": [
    "# Write your code from here"
   ]
  },
  {
   "cell_type": "code",
   "execution_count": 2,
   "metadata": {},
   "outputs": [
    {
     "name": "stdout",
     "output_type": "stream",
     "text": [
      "Number of valid emails: 2\n",
      "Number of invalid emails: 1\n"
     ]
    }
   ],
   "source": [
    "# Count the number of valid and invalid emails\n",
    "num_valid_emails = len(valid_emails)\n",
    "num_invalid_emails = len(emails) - num_valid_emails\n",
    "\n",
    "print(f\"Number of valid emails: {num_valid_emails}\")\n",
    "print(f\"Number of invalid emails: {num_invalid_emails}\")"
   ]
  },
  {
   "cell_type": "markdown",
   "metadata": {},
   "source": [
    "## Checking Date Validity Format\n",
    "\n",
    "**Description**: Ensure the dates in a list adhere to a specific format (e.g., YYYY-MM-DD)."
   ]
  },
  {
   "cell_type": "code",
   "execution_count": null,
   "metadata": {},
   "outputs": [],
   "source": [
    "# Write your code from here"
   ]
  },
  {
   "cell_type": "code",
   "execution_count": 3,
   "metadata": {},
   "outputs": [
    {
     "name": "stdout",
     "output_type": "stream",
     "text": [
      "Valid Emails: ['test@example.com', 'user@domain.org']\n",
      "Invalid Emails: ['invalid-email@']\n"
     ]
    }
   ],
   "source": [
    "# Display the valid and invalid emails\n",
    "invalid_emails = [email for email in emails if email not in valid_emails]\n",
    "\n",
    "print(\"Valid Emails:\", valid_emails)\n",
    "print(\"Invalid Emails:\", invalid_emails)"
   ]
  }
 ],
 "metadata": {
  "kernelspec": {
   "display_name": ".venv",
   "language": "python",
   "name": "python3"
  },
  "language_info": {
   "codemirror_mode": {
    "name": "ipython",
    "version": 3
   },
   "file_extension": ".py",
   "mimetype": "text/x-python",
   "name": "python",
   "nbconvert_exporter": "python",
   "pygments_lexer": "ipython3",
   "version": "3.10.12"
  }
 },
 "nbformat": 4,
 "nbformat_minor": 2
}
