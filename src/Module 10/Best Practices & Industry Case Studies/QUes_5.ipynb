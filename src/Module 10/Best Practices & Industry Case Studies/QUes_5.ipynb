{
 "cells": [
  {
   "cell_type": "markdown",
   "metadata": {},
   "source": [
    "### Implementing Basic Data Validation with Great Expectations\n",
    "**Description**: Set up a simple data validation using Great Expectations to check the completeness of a dataset.\n",
    "\n",
    "**Steps**:\n",
    "1. Installation\n",
    "2. Initialize Great Expectations\n",
    "3. Create a Data Context in Python\n",
    "4. Create an Expectation Suite\n",
    "5. Load Sample Data and Validate Completeness\n",
    "6. Run Validations"
   ]
  },
  {
   "cell_type": "code",
   "execution_count": null,
   "metadata": {},
   "outputs": [],
   "source": [
    "# write your code from here\n"
   ]
  },
  {
   "cell_type": "code",
   "execution_count": 1,
   "metadata": {},
   "outputs": [
    {
     "ename": "ModuleNotFoundError",
     "evalue": "No module named 'great_expectations'",
     "output_type": "error",
     "traceback": [
      "\u001b[0;31m---------------------------------------------------------------------------\u001b[0m",
      "\u001b[0;31mModuleNotFoundError\u001b[0m                       Traceback (most recent call last)",
      "Cell \u001b[0;32mIn[1], line 1\u001b[0m\n\u001b[0;32m----> 1\u001b[0m \u001b[38;5;28;01mimport\u001b[39;00m\u001b[38;5;250m \u001b[39m\u001b[38;5;21;01mgreat_expectations\u001b[39;00m\u001b[38;5;250m \u001b[39m\u001b[38;5;28;01mas\u001b[39;00m\u001b[38;5;250m \u001b[39m\u001b[38;5;21;01mge\u001b[39;00m\n\u001b[1;32m      2\u001b[0m \u001b[38;5;28;01mimport\u001b[39;00m\u001b[38;5;250m \u001b[39m\u001b[38;5;21;01mpandas\u001b[39;00m\u001b[38;5;250m \u001b[39m\u001b[38;5;28;01mas\u001b[39;00m\u001b[38;5;250m \u001b[39m\u001b[38;5;21;01mpd\u001b[39;00m\n\u001b[1;32m      4\u001b[0m \u001b[38;5;66;03m# Install Great Expectations (if not already installed)\u001b[39;00m\n",
      "\u001b[0;31mModuleNotFoundError\u001b[0m: No module named 'great_expectations'"
     ]
    }
   ],
   "source": [
    "import great_expectations as ge\n",
    "import pandas as pd\n",
    "\n",
    "# Install Great Expectations (if not already installed)\n",
    "!pip install great_expectations\n",
    "\n",
    "# Import Great Expectations\n",
    "\n",
    "# Initialize a Data Context\n",
    "context = ge.data_context.DataContext()\n",
    "\n",
    "# Create an Expectation Suite\n",
    "expectation_suite_name = \"basic_data_validation_suite\"\n",
    "context.create_expectation_suite(expectation_suite_name, overwrite_existing=True)\n",
    "\n",
    "# Load sample data into a Great Expectations DataFrame\n",
    "\n",
    "# Sample data\n",
    "data = {\n",
    "    \"Name\": [\"Alice\", \"Bob\", \"Charlie\", None],\n",
    "    \"Age\": [25, 30, 35, None],\n",
    "    \"Gender\": [\"F\", \"M\", \"M\", None]\n",
    "}\n",
    "df = pd.DataFrame(data)\n",
    "\n",
    "# Convert to Great Expectations DataFrame\n",
    "ge_df = ge.from_pandas(df)\n",
    "\n",
    "# Add expectations to check for completeness\n",
    "ge_df.expect_column_values_to_not_be_null(\"Name\")\n",
    "ge_df.expect_column_values_to_not_be_null(\"Age\")\n",
    "ge_df.expect_column_values_to_not_be_null(\"Gender\")\n",
    "\n",
    "# Validate the data\n",
    "validation_results = ge_df.validate()\n",
    "print(validation_results)"
   ]
  },
  {
   "cell_type": "code",
   "execution_count": 2,
   "metadata": {},
   "outputs": [
    {
     "ename": "ModuleNotFoundError",
     "evalue": "No module named 'great_expectations'",
     "output_type": "error",
     "traceback": [
      "\u001b[0;31m---------------------------------------------------------------------------\u001b[0m",
      "\u001b[0;31mModuleNotFoundError\u001b[0m                       Traceback (most recent call last)",
      "Cell \u001b[0;32mIn[2], line 1\u001b[0m\n\u001b[0;32m----> 1\u001b[0m \u001b[38;5;28;01mfrom\u001b[39;00m\u001b[38;5;250m \u001b[39m\u001b[38;5;21;01mgreat_expectations\u001b[39;00m\u001b[38;5;21;01m.\u001b[39;00m\u001b[38;5;21;01mdata_context\u001b[39;00m\u001b[38;5;250m \u001b[39m\u001b[38;5;28;01mimport\u001b[39;00m BaseDataContext\n\u001b[1;32m      3\u001b[0m \u001b[38;5;66;03m# Correct the initialization of the Data Context\u001b[39;00m\n\u001b[1;32m      4\u001b[0m \n\u001b[1;32m      5\u001b[0m \u001b[38;5;66;03m# Initialize a Data Context programmatically\u001b[39;00m\n\u001b[1;32m      6\u001b[0m context_config \u001b[38;5;241m=\u001b[39m {\n\u001b[1;32m      7\u001b[0m     \u001b[38;5;124m\"\u001b[39m\u001b[38;5;124mdatasources\u001b[39m\u001b[38;5;124m\"\u001b[39m: {},\n\u001b[1;32m      8\u001b[0m     \u001b[38;5;124m\"\u001b[39m\u001b[38;5;124mconfig_version\u001b[39m\u001b[38;5;124m\"\u001b[39m: \u001b[38;5;241m1\u001b[39m,\n\u001b[0;32m   (...)\u001b[0m\n\u001b[1;32m     15\u001b[0m     \u001b[38;5;124m\"\u001b[39m\u001b[38;5;124mdata_docs_sites\u001b[39m\u001b[38;5;124m\"\u001b[39m: {},\n\u001b[1;32m     16\u001b[0m }\n",
      "\u001b[0;31mModuleNotFoundError\u001b[0m: No module named 'great_expectations'"
     ]
    }
   ],
   "source": [
    "from great_expectations.data_context import BaseDataContext\n",
    "\n",
    "# Correct the initialization of the Data Context\n",
    "\n",
    "# Initialize a Data Context programmatically\n",
    "context_config = {\n",
    "    \"datasources\": {},\n",
    "    \"config_version\": 1,\n",
    "    \"plugins_directory\": None,\n",
    "    \"validation_operators\": {},\n",
    "    \"stores\": {},\n",
    "    \"expectations_store_name\": \"expectations_store\",\n",
    "    \"validations_store_name\": \"validations_store\",\n",
    "    \"evaluation_parameter_store_name\": \"evaluation_parameter_store\",\n",
    "    \"data_docs_sites\": {},\n",
    "}\n",
    "context = BaseDataContext(project_config=context_config)\n",
    "\n",
    "# Re-run the expectation suite creation and validation\n",
    "expectation_suite_name = \"basic_data_validation_suite\"\n",
    "context.create_expectation_suite(expectation_suite_name, overwrite_existing=True)\n",
    "\n",
    "# Validate the data again\n",
    "validation_results = ge_df.validate()\n",
    "print(validation_results)"
   ]
  },
  {
   "cell_type": "code",
   "execution_count": 3,
   "metadata": {},
   "outputs": [
    {
     "ename": "ModuleNotFoundError",
     "evalue": "No module named 'great_expectations'",
     "output_type": "error",
     "traceback": [
      "\u001b[0;31m---------------------------------------------------------------------------\u001b[0m",
      "\u001b[0;31mModuleNotFoundError\u001b[0m                       Traceback (most recent call last)",
      "Cell \u001b[0;32mIn[3], line 1\u001b[0m\n\u001b[0;32m----> 1\u001b[0m \u001b[38;5;28;01mfrom\u001b[39;00m\u001b[38;5;250m \u001b[39m\u001b[38;5;21;01mgreat_expectations\u001b[39;00m\u001b[38;5;21;01m.\u001b[39;00m\u001b[38;5;21;01mdata_context\u001b[39;00m\u001b[38;5;21;01m.\u001b[39;00m\u001b[38;5;21;01mtypes\u001b[39;00m\u001b[38;5;21;01m.\u001b[39;00m\u001b[38;5;21;01mbase\u001b[39;00m\u001b[38;5;250m \u001b[39m\u001b[38;5;28;01mimport\u001b[39;00m BaseDataContext\n\u001b[1;32m      3\u001b[0m \u001b[38;5;66;03m# Correct the initialization of the Data Context\u001b[39;00m\n\u001b[1;32m      4\u001b[0m \n\u001b[1;32m      5\u001b[0m \u001b[38;5;66;03m# Initialize a Data Context programmatically\u001b[39;00m\n\u001b[1;32m      6\u001b[0m context_config \u001b[38;5;241m=\u001b[39m {\n\u001b[1;32m      7\u001b[0m     \u001b[38;5;124m\"\u001b[39m\u001b[38;5;124mdatasources\u001b[39m\u001b[38;5;124m\"\u001b[39m: {},\n\u001b[1;32m      8\u001b[0m     \u001b[38;5;124m\"\u001b[39m\u001b[38;5;124mconfig_version\u001b[39m\u001b[38;5;124m\"\u001b[39m: \u001b[38;5;241m1\u001b[39m,\n\u001b[0;32m   (...)\u001b[0m\n\u001b[1;32m     15\u001b[0m     \u001b[38;5;124m\"\u001b[39m\u001b[38;5;124mdata_docs_sites\u001b[39m\u001b[38;5;124m\"\u001b[39m: {},\n\u001b[1;32m     16\u001b[0m }\n",
      "\u001b[0;31mModuleNotFoundError\u001b[0m: No module named 'great_expectations'"
     ]
    }
   ],
   "source": [
    "from great_expectations.data_context.types.base import BaseDataContext\n",
    "\n",
    "# Correct the initialization of the Data Context\n",
    "\n",
    "# Initialize a Data Context programmatically\n",
    "context_config = {\n",
    "    \"datasources\": {},\n",
    "    \"config_version\": 1,\n",
    "    \"plugins_directory\": None,\n",
    "    \"validation_operators\": {},\n",
    "    \"stores\": {},\n",
    "    \"expectations_store_name\": \"expectations_store\",\n",
    "    \"validations_store_name\": \"validations_store\",\n",
    "    \"evaluation_parameter_store_name\": \"evaluation_parameter_store\",\n",
    "    \"data_docs_sites\": {},\n",
    "}\n",
    "context = BaseDataContext(project_config=context_config)\n",
    "\n",
    "# Re-run the expectation suite creation and validation\n",
    "expectation_suite_name = \"basic_data_validation_suite\"\n",
    "context.create_expectation_suite(expectation_suite_name, overwrite_existing=True)\n",
    "\n",
    "# Validate the data again\n",
    "validation_results = ge_df.validate()\n",
    "print(validation_results)"
   ]
  },
  {
   "cell_type": "code",
   "execution_count": null,
   "metadata": {},
   "outputs": [],
   "source": []
  }
 ],
 "metadata": {
  "kernelspec": {
   "display_name": "Python 3",
   "language": "python",
   "name": "python3"
  },
  "language_info": {
   "codemirror_mode": {
    "name": "ipython",
    "version": 3
   },
   "file_extension": ".py",
   "mimetype": "text/x-python",
   "name": "python",
   "nbconvert_exporter": "python",
   "pygments_lexer": "ipython3",
   "version": "3.10.12"
  }
 },
 "nbformat": 4,
 "nbformat_minor": 2
}
