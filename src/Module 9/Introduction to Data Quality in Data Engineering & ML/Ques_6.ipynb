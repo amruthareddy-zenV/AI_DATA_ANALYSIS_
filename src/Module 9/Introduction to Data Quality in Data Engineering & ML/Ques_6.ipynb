{
 "cells": [
  {
   "cell_type": "markdown",
   "metadata": {},
   "source": [
    "### Types of Data Quality Issues in ML Pipelines\n",
    "**Description**: Analyze a sample dataset (provided by the instructor) and identify instances of data quality issues such as missing values, bias, or noise."
   ]
  },
  {
   "cell_type": "code",
   "execution_count": null,
   "metadata": {},
   "outputs": [],
   "source": [
    "# Write your code from here\n"
   ]
  },
  {
   "cell_type": "code",
   "execution_count": 1,
   "metadata": {},
   "outputs": [
    {
     "name": "stdout",
     "output_type": "stream",
     "text": [
      "Sample Dataset:\n",
      "      Name   Age Gender   Income\n",
      "0    Alice  25.0      F  50000.0\n",
      "1      Bob  30.0      M  60000.0\n",
      "2  Charlie   NaN      M  55000.0\n",
      "3    David  40.0   None      NaN\n",
      "4     None  35.0      F  58000.0\n"
     ]
    }
   ],
   "source": [
    "import pandas as pd\n",
    "import numpy as np\n",
    "\n",
    "# Sample dataset with potential data quality issues\n",
    "data = {\n",
    "    'Name': ['Alice', 'Bob', 'Charlie', 'David', None],\n",
    "    'Age': [25, 30, np.nan, 40, 35],\n",
    "    'Gender': ['F', 'M', 'M', None, 'F'],\n",
    "    'Income': [50000, 60000, 55000, None, 58000]\n",
    "}\n",
    "\n",
    "# Create a DataFrame\n",
    "df = pd.DataFrame(data)\n",
    "\n",
    "# Display the dataset\n",
    "print(\"Sample Dataset:\")\n",
    "print(df)"
   ]
  }
 ],
 "metadata": {
  "kernelspec": {
   "display_name": "Python 3",
   "language": "python",
   "name": "python3"
  },
  "language_info": {
   "codemirror_mode": {
    "name": "ipython",
    "version": 3
   },
   "file_extension": ".py",
   "mimetype": "text/x-python",
   "name": "python",
   "nbconvert_exporter": "python",
   "pygments_lexer": "ipython3",
   "version": "3.10.12"
  }
 },
 "nbformat": 4,
 "nbformat_minor": 2
}
