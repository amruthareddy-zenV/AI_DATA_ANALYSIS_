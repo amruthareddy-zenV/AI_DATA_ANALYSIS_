{
 "cells": [
  {
   "cell_type": "markdown",
   "metadata": {},
   "source": [
    "### Task 1: Validate Data with a Custom Expectation in Great Expectations\n",
    "**Description**: Create a custom expectation and validate data with Great Expectations.\n",
    "\n",
    "**Load a sample DataFrame**\n",
    "\n",
    "data = {\n",
    "'age': [25, 30, 35, 40, 45],\n",
    "'income': [50000, 60000, 75000, None, 100000]\n",
    "}"
   ]
  },
  {
   "cell_type": "code",
   "execution_count": 6,
   "metadata": {},
   "outputs": [],
   "source": [
    "# Write your code from here"
   ]
  },
  {
   "cell_type": "code",
   "execution_count": 7,
   "metadata": {},
   "outputs": [
    {
     "ename": "ModuleNotFoundError",
     "evalue": "No module named 'great_expectations'",
     "output_type": "error",
     "traceback": [
      "\u001b[0;31m---------------------------------------------------------------------------\u001b[0m",
      "\u001b[0;31mModuleNotFoundError\u001b[0m                       Traceback (most recent call last)",
      "Cell \u001b[0;32mIn[7], line 2\u001b[0m\n\u001b[1;32m      1\u001b[0m \u001b[38;5;28;01mimport\u001b[39;00m\u001b[38;5;250m \u001b[39m\u001b[38;5;21;01mpandas\u001b[39;00m\u001b[38;5;250m \u001b[39m\u001b[38;5;28;01mas\u001b[39;00m\u001b[38;5;250m \u001b[39m\u001b[38;5;21;01mpd\u001b[39;00m\n\u001b[0;32m----> 2\u001b[0m \u001b[38;5;28;01mimport\u001b[39;00m\u001b[38;5;250m \u001b[39m\u001b[38;5;21;01mgreat_expectations\u001b[39;00m\u001b[38;5;250m \u001b[39m\u001b[38;5;28;01mas\u001b[39;00m\u001b[38;5;250m \u001b[39m\u001b[38;5;21;01mge\u001b[39;00m\n\u001b[1;32m      4\u001b[0m \u001b[38;5;66;03m# Convert the data dictionary to a GE DataFrame\u001b[39;00m\n\u001b[1;32m      5\u001b[0m df \u001b[38;5;241m=\u001b[39m ge\u001b[38;5;241m.\u001b[39mfrom_pandas(pd\u001b[38;5;241m.\u001b[39mDataFrame(data))\n",
      "\u001b[0;31mModuleNotFoundError\u001b[0m: No module named 'great_expectations'"
     ]
    }
   ],
   "source": [
    "import pandas as pd\n",
    "import great_expectations as ge\n",
    "\n",
    "# Convert the data dictionary to a GE DataFrame\n",
    "df = ge.from_pandas(pd.DataFrame(data))\n",
    "\n",
    "# Create custom expectation for income validation\n",
    "def expect_income_above_minimum(self):\n",
    "    min_income = 30000\n",
    "    # Exclude None values\n",
    "    actual_values = self['income'].dropna()\n",
    "    success = (actual_values >= min_income).all()\n",
    "    \n",
    "    return {\n",
    "        \"success\": success,\n",
    "        \"result\": {\n",
    "            \"observed_value\": actual_values.min(),\n",
    "            \"minimum_value\": min_income\n",
    "        }\n",
    "    }\n",
    "\n",
    "# Add custom expectation to the DataFrame\n",
    "df.custom.expect_income_above_minimum = expect_income_above_minimum\n",
    "\n",
    "# Validate the data\n",
    "validation_results = df.validate(\n",
    "    expectation_suite={\n",
    "        \"expectations\": [\n",
    "            {\n",
    "                \"expectation_type\": \"expect_column_values_to_not_be_null\",\n",
    "                \"kwargs\": {\"column\": \"income\"}\n",
    "            },\n",
    "            {\n",
    "                \"expectation_type\": \"expect_column_values_to_be_between\",\n",
    "                \"kwargs\": {\n",
    "                    \"column\": \"age\",\n",
    "                    \"min_value\": 18,\n",
    "                    \"max_value\": 100\n",
    "                }\n",
    "            }\n",
    "        ]\n",
    "    }\n",
    ")\n",
    "\n",
    "print(validation_results)"
   ]
  },
  {
   "cell_type": "code",
   "execution_count": null,
   "metadata": {},
   "outputs": [
    {
     "ename": "NameError",
     "evalue": "name 'df' is not defined",
     "output_type": "error",
     "traceback": [
      "\u001b[0;31m---------------------------------------------------------------------------\u001b[0m",
      "\u001b[0;31mNameError\u001b[0m                                 Traceback (most recent call last)",
      "Cell \u001b[0;32mIn[2], line 2\u001b[0m\n\u001b[1;32m      1\u001b[0m \u001b[38;5;66;03m# Test the custom income validation\u001b[39;00m\n\u001b[0;32m----> 2\u001b[0m custom_validation \u001b[38;5;241m=\u001b[39m \u001b[43mdf\u001b[49m\u001b[38;5;241m.\u001b[39mcustom\u001b[38;5;241m.\u001b[39mexpect_income_above_minimum()\n\u001b[1;32m      3\u001b[0m \u001b[38;5;28mprint\u001b[39m(\u001b[38;5;124m\"\u001b[39m\u001b[38;5;130;01m\\n\u001b[39;00m\u001b[38;5;124mCustom Income Validation Results:\u001b[39m\u001b[38;5;124m\"\u001b[39m)\n\u001b[1;32m      4\u001b[0m \u001b[38;5;28mprint\u001b[39m(\u001b[38;5;124mf\u001b[39m\u001b[38;5;124m\"\u001b[39m\u001b[38;5;124mSuccess: \u001b[39m\u001b[38;5;132;01m{\u001b[39;00mcustom_validation[\u001b[38;5;124m'\u001b[39m\u001b[38;5;124msuccess\u001b[39m\u001b[38;5;124m'\u001b[39m]\u001b[38;5;132;01m}\u001b[39;00m\u001b[38;5;124m\"\u001b[39m)\n",
      "\u001b[0;31mNameError\u001b[0m: name 'df' is not defined"
     ]
    }
   ],
   "source": [
    "# Test the custom income validation\n",
    "custom_validation = df.custom.expect_income_above_minimum()\n",
    "print(\"\\nCustom Income Validation Results:\")\n",
    "print(f\"Success: {custom_validation['success']}\")\n",
    "print(f\"Minimum observed income: ${custom_validation['result']['observed_value']:,.2f}\")\n",
    "print(f\"Required minimum income: ${custom_validation['result']['minimum_value']:,.2f}\")\n",
    "\n",
    "# Additional basic data quality checks\n",
    "print(\"\\nBasic Data Quality Metrics:\")\n",
    "print(f\"Total rows: {len(df)}\")\n",
    "print(f\"Missing income values: {df['income'].isnull().sum()}\")\n",
    "print(f\"Age range: {df['age'].min()} to {df['age'].max()}\")"
   ]
  },
  {
   "cell_type": "code",
   "execution_count": null,
   "metadata": {},
   "outputs": [
    {
     "ename": "NameError",
     "evalue": "name 'df' is not defined",
     "output_type": "error",
     "traceback": [
      "\u001b[0;31m---------------------------------------------------------------------------\u001b[0m",
      "\u001b[0;31mNameError\u001b[0m                                 Traceback (most recent call last)",
      "Cell \u001b[0;32mIn[3], line 9\u001b[0m\n\u001b[1;32m      6\u001b[0m fig, (ax1, ax2) \u001b[38;5;241m=\u001b[39m plt\u001b[38;5;241m.\u001b[39msubplots(\u001b[38;5;241m1\u001b[39m, \u001b[38;5;241m2\u001b[39m, figsize\u001b[38;5;241m=\u001b[39m(\u001b[38;5;241m15\u001b[39m, \u001b[38;5;241m5\u001b[39m))\n\u001b[1;32m      8\u001b[0m \u001b[38;5;66;03m# Plot 1: Age distribution\u001b[39;00m\n\u001b[0;32m----> 9\u001b[0m sns\u001b[38;5;241m.\u001b[39mboxplot(y\u001b[38;5;241m=\u001b[39m\u001b[43mdf\u001b[49m[\u001b[38;5;124m'\u001b[39m\u001b[38;5;124mage\u001b[39m\u001b[38;5;124m'\u001b[39m], ax\u001b[38;5;241m=\u001b[39max1)\n\u001b[1;32m     10\u001b[0m ax1\u001b[38;5;241m.\u001b[39mset_title(\u001b[38;5;124m'\u001b[39m\u001b[38;5;124mAge Distribution\u001b[39m\u001b[38;5;124m'\u001b[39m)\n\u001b[1;32m     11\u001b[0m ax1\u001b[38;5;241m.\u001b[39mset_ylabel(\u001b[38;5;124m'\u001b[39m\u001b[38;5;124mAge\u001b[39m\u001b[38;5;124m'\u001b[39m)\n",
      "\u001b[0;31mNameError\u001b[0m: name 'df' is not defined"
     ]
    },
    {
     "data": {
      "image/png": "[encoded data removed]",
      "text/plain": [
       "<Figure size 1500x500 with 2 Axes>"
      ]
     },
     "metadata": {},
     "output_type": "display_data"
    }
   ],
   "source": [
    "import seaborn as sns\n",
    "\n",
    "import matplotlib.pyplot as plt\n",
    "\n",
    "# Create a summary dashboard of data quality metrics\n",
    "fig, (ax1, ax2) = plt.subplots(1, 2, figsize=(15, 5))\n",
    "\n",
    "# Plot 1: Age distribution\n",
    "sns.boxplot(y=df['age'], ax=ax1)\n",
    "ax1.set_title('Age Distribution')\n",
    "ax1.set_ylabel('Age')\n",
    "\n",
    "# Plot 2: Income distribution (excluding None values)\n",
    "income_data = df['income'].dropna()\n",
    "sns.boxplot(y=income_data, ax=ax2)\n",
    "ax2.set_title('Income Distribution')\n",
    "ax2.set_ylabel('Income ($)')\n",
    "\n",
    "plt.tight_layout()\n",
    "\n",
    "# Display key validation metrics\n",
    "quality_metrics = {\n",
    "    'Data Completeness': (len(df) - df['income'].isnull().sum()) / len(df) * 100,\n",
    "    'Age Validation Pass': validation_results.success,\n",
    "    'Income Validation Pass': custom_validation['success']\n",
    "}\n",
    "\n",
    "print(\"\\nData Quality Metrics Summary:\")\n",
    "for metric, value in quality_metrics.items():\n",
    "    if isinstance(value, bool):\n",
    "        print(f\"{metric}: {'✓' if value else '✗'}\")\n",
    "    else:\n",
    "        print(f\"{metric}: {value:.1f}%\")"
   ]
  },
  {
   "cell_type": "markdown",
   "metadata": {},
   "source": [
    "### Task 2: Implement a Basic Alert System for Data Quality Drops\n",
    "**Description**: Set up a basic alert system that triggers when data quality drops."
   ]
  },
  {
   "cell_type": "code",
   "execution_count": null,
   "metadata": {},
   "outputs": [],
   "source": [
    "# Write your code from here"
   ]
  },
  {
   "cell_type": "code",
   "execution_count": null,
   "metadata": {
    "vscode": {
     "languageId": "coffeescript"
    }
   },
   "outputs": [],
   "source": [
    "def check_data_quality(df, threshold_completeness=95, min_income=30000):\n",
    "    # Calculate metrics\n",
    "    completeness = (len(df) - df['income'].isnull().sum()) / len(df) * 100\n",
    "    income_validation = df.custom.expect_income_above_minimum()\n",
    "    \n",
    "    # Define alert conditions\n",
    "    alerts = []\n",
    "    if completeness < threshold_completeness:\n",
    "        alerts.append(f\"WARNING: Data completeness ({completeness:.1f}%) below threshold ({threshold_completeness}%)\")\n",
    "    \n",
    "    if not income_validation['success']:\n",
    "        alerts.append(f\"WARNING: Income validation failed - found values below ${min_income:,}\")\n",
    "    \n",
    "    if df['age'].min() < 18 or df['age'].max() > 100:\n",
    "        alerts.append(\"WARNING: Age values outside valid range (18-100)\")\n",
    "    \n",
    "    # Print alerts or success message\n",
    "    if alerts:\n",
    "        print(\"🚨 QUALITY ALERTS DETECTED:\")\n",
    "        for alert in alerts:\n",
    "            print(f\"- {alert}\")\n",
    "    else:\n",
    "        print(\"✅ All quality checks passed\")\n",
    "        \n",
    "    return len(alerts) == 0\n",
    "\n",
    "# Run quality check\n",
    "quality_status = check_data_quality(df)"
   ]
  },
  {
   "cell_type": "markdown",
   "metadata": {},
   "source": [
    "### Task 3: Real-time Data Quality Monitoring with Python and Great Expectations\n",
    "**Description**: Implement a system that monitors data quality in real-time."
   ]
  },
  {
   "cell_type": "code",
   "execution_count": null,
   "metadata": {},
   "outputs": [],
   "source": [
    "# Write your code from here"
   ]
  },
  {
   "cell_type": "code",
   "execution_count": 8,
   "metadata": {},
   "outputs": [
    {
     "ename": "NameError",
     "evalue": "name 'df' is not defined",
     "output_type": "error",
     "traceback": [
      "\u001b[0;31m---------------------------------------------------------------------------\u001b[0m",
      "\u001b[0;31mNameError\u001b[0m                                 Traceback (most recent call last)",
      "Cell \u001b[0;32mIn[8], line 79\u001b[0m\n\u001b[1;32m     76\u001b[0m         \u001b[38;5;28mprint\u001b[39m(\u001b[38;5;124m\"\u001b[39m\u001b[38;5;124m-\u001b[39m\u001b[38;5;124m\"\u001b[39m \u001b[38;5;241m*\u001b[39m \u001b[38;5;241m50\u001b[39m)\n\u001b[1;32m     78\u001b[0m \u001b[38;5;66;03m# Initialize and start the monitor\u001b[39;00m\n\u001b[0;32m---> 79\u001b[0m monitor \u001b[38;5;241m=\u001b[39m RealTimeQualityMonitor(\u001b[43mdf\u001b[49m)\n\u001b[1;32m     80\u001b[0m monitor\u001b[38;5;241m.\u001b[39mmonitor_quality()\n",
      "\u001b[0;31mNameError\u001b[0m: name 'df' is not defined"
     ]
    }
   ],
   "source": [
    "import time\n",
    "from datetime import datetime\n",
    "\n",
    "class RealTimeQualityMonitor:\n",
    "    def __init__(self, df, check_interval=5):\n",
    "        self.df = df\n",
    "        self.check_interval = check_interval\n",
    "        self.quality_history = []\n",
    "        \n",
    "    def monitor_quality(self, num_iterations=5):\n",
    "        print(\"Starting real-time quality monitoring...\")\n",
    "        \n",
    "        for i in range(num_iterations):\n",
    "            # Timestamp for this check\n",
    "            timestamp = datetime.now()\n",
    "            \n",
    "            # Run quality checks\n",
    "            validation_results = self.df.validate(\n",
    "                expectation_suite={\n",
    "                    \"expectations\": [\n",
    "                        {\n",
    "                            \"expectation_type\": \"expect_column_values_to_not_be_null\",\n",
    "                            \"kwargs\": {\"column\": \"income\"}\n",
    "                        },\n",
    "                        {\n",
    "                            \"expectation_type\": \"expect_column_values_to_be_between\",\n",
    "                            \"kwargs\": {\n",
    "                                \"column\": \"age\",\n",
    "                                \"min_value\": 18,\n",
    "                                \"max_value\": 100\n",
    "                            }\n",
    "                        }\n",
    "                    ]\n",
    "                }\n",
    "            )\n",
    "            \n",
    "            custom_check = self.df.custom.expect_income_above_minimum()\n",
    "            \n",
    "            # Store results\n",
    "            check_result = {\n",
    "                'timestamp': timestamp,\n",
    "                'completeness': (len(self.df) - self.df['income'].isnull().sum()) / len(self.df) * 100,\n",
    "                'income_validation': custom_check['success'],\n",
    "                'age_validation': validation_results.success\n",
    "            }\n",
    "            self.quality_history.append(check_result)\n",
    "            \n",
    "            # Update visualization\n",
    "            self._update_monitoring_dashboard(check_result)\n",
    "            \n",
    "            # Wait for next check\n",
    "            time.sleep(self.check_interval)\n",
    "    \n",
    "    def _update_monitoring_dashboard(self, latest_result):\n",
    "        # Clear previous plots\n",
    "        ax1.clear()\n",
    "        ax2.clear()\n",
    "        \n",
    "        # Update plots with latest data\n",
    "        sns.boxplot(y=self.df['age'], ax=ax1)\n",
    "        ax1.set_title(f'Age Distribution\\nLast check: {latest_result[\"timestamp\"].strftime(\"%H:%M:%S\")}')\n",
    "        ax1.set_ylabel('Age')\n",
    "        \n",
    "        income_data = self.df['income'].dropna()\n",
    "        sns.boxplot(y=income_data, ax=ax2)\n",
    "        ax2.set_title('Income Distribution')\n",
    "        ax2.set_ylabel('Income ($)')\n",
    "        \n",
    "        plt.tight_layout()\n",
    "        \n",
    "        # Print latest metrics\n",
    "        print(f\"\\nQuality Check at {latest_result['timestamp'].strftime('%H:%M:%S')}:\")\n",
    "        print(f\"Data Completeness: {latest_result['completeness']:.1f}%\")\n",
    "        print(f\"Income Validation: {'✓' if latest_result['income_validation'] else '✗'}\")\n",
    "        print(f\"Age Validation: {'✓' if latest_result['age_validation'] else '✗'}\")\n",
    "        print(\"-\" * 50)\n",
    "\n",
    "# Initialize and start the monitor\n",
    "monitor = RealTimeQualityMonitor(df)\n",
    "monitor.monitor_quality()"
   ]
  },
  {
   "cell_type": "code",
   "execution_count": 11,
   "metadata": {},
   "outputs": [
    {
     "ename": "TypeError",
     "evalue": "RealTimeQualityMonitor.__init__() missing 1 required positional argument: 'df'",
     "output_type": "error",
     "traceback": [
      "\u001b[0;31m---------------------------------------------------------------------------\u001b[0m",
      "\u001b[0;31mTypeError\u001b[0m                                 Traceback (most recent call last)",
      "Cell \u001b[0;32mIn[11], line 86\u001b[0m\n\u001b[1;32m     83\u001b[0m         plt\u001b[38;5;241m.\u001b[39mpause(\u001b[38;5;241m0.1\u001b[39m)\n\u001b[1;32m     85\u001b[0m \u001b[38;5;66;03m# Initialize and start the monitor\u001b[39;00m\n\u001b[0;32m---> 86\u001b[0m monitor \u001b[38;5;241m=\u001b[39m \u001b[43mRealTimeQualityMonitor\u001b[49m\u001b[43m(\u001b[49m\u001b[43m)\u001b[49m\n\u001b[1;32m     87\u001b[0m monitor\u001b[38;5;241m.\u001b[39mmonitor_quality()\n",
      "\u001b[0;31mTypeError\u001b[0m: RealTimeQualityMonitor.__init__() missing 1 required positional argument: 'df'"
     ]
    }
   ],
   "source": [
    "import time\n",
    "from datetime import datetime\n",
    "\n",
    "class RealTimeQualityMonitor:\n",
    "    def __init__(self, df, check_interval=5):\n",
    "        self.df = df\n",
    "        self.check_interval = check_interval\n",
    "        self.quality_history = []\n",
    "        \n",
    "        # Create the figure and axes for plotting\n",
    "        self.fig, (self.ax1, self.ax2) = plt.subplots(1, 2, figsize=(15, 5))\n",
    "        \n",
    "    def monitor_quality(self, num_iterations=5):\n",
    "        print(\"Starting real-time quality monitoring...\")\n",
    "        \n",
    "        for i in range(num_iterations):\n",
    "            # Timestamp for this check\n",
    "            timestamp = datetime.now()\n",
    "            \n",
    "            # Run quality checks\n",
    "            validation_results = self.df.validate(\n",
    "                expectation_suite={\n",
    "                    \"expectations\": [\n",
    "                        {\n",
    "                            \"expectation_type\": \"expect_column_values_to_not_be_null\",\n",
    "                            \"kwargs\": {\"column\": \"income\"}\n",
    "                        },\n",
    "                        {\n",
    "                            \"expectation_type\": \"expect_column_values_to_be_between\",\n",
    "                            \"kwargs\": {\n",
    "                                \"column\": \"age\",\n",
    "                                \"min_value\": 18,\n",
    "                                \"max_value\": 100\n",
    "                            }\n",
    "                        }\n",
    "                    ]\n",
    "                }\n",
    "            )\n",
    "            \n",
    "            custom_check = self.df.custom.expect_income_above_minimum()\n",
    "            \n",
    "            # Store results\n",
    "            check_result = {\n",
    "                'timestamp': timestamp,\n",
    "                'completeness': (len(self.df) - self.df['income'].isnull().sum()) / len(self.df) * 100,\n",
    "                'income_validation': custom_check['success'],\n",
    "                'age_validation': validation_results.success\n",
    "            }\n",
    "            self.quality_history.append(check_result)\n",
    "            \n",
    "            # Update visualization\n",
    "            self._update_monitoring_dashboard(check_result)\n",
    "            \n",
    "            # Wait for next check\n",
    "            time.sleep(self.check_interval)\n",
    "    \n",
    "    def _update_monitoring_dashboard(self, latest_result):\n",
    "        # Clear previous plots\n",
    "        self.ax1.clear()\n",
    "        self.ax2.clear()\n",
    "        \n",
    "        # Update plots with latest data\n",
    "        sns.boxplot(y=self.df['age'], ax=self.ax1)\n",
    "        self.ax1.set_title(f'Age Distribution\\nLast check: {latest_result[\"timestamp\"].strftime(\"%H:%M:%S\")}')\n",
    "        self.ax1.set_ylabel('Age')\n",
    "        \n",
    "        income_data = self.df['income'].dropna()\n",
    "        sns.boxplot(y=income_data, ax=self.ax2)\n",
    "        self.ax2.set_title('Income Distribution')\n",
    "        self.ax2.set_ylabel('Income ($)')\n",
    "        \n",
    "        plt.tight_layout()\n",
    "        \n",
    "        # Print latest metrics\n",
    "        print(f\"\\nQuality Check at {latest_result['timestamp'].strftime('%H:%M:%S')}:\")\n",
    "        print(f\"Data Completeness: {latest_result['completeness']:.1f}%\")\n",
    "        print(f\"Income Validation: {'✓' if latest_result['income_validation'] else '✗'}\")\n",
    "        print(f\"Age Validation: {'✓' if latest_result['age_validation'] else '✗'}\")\n",
    "        print(\"-\" * 50)\n",
    "        \n",
    "        # Force the plot to update\n",
    "        self.fig.canvas.draw()\n",
    "        plt.pause(0.1)\n",
    "\n",
    "# Initialize and start the monitor\n",
    "monitor = RealTimeQualityMonitor()\n",
    "monitor.monitor_quality()"
   ]
  },
  {
   "cell_type": "code",
   "execution_count": null,
   "metadata": {},
   "outputs": [],
   "source": []
  }
 ],
 "metadata": {
  "kernelspec": {
   "display_name": ".venv",
   "language": "python",
   "name": "python3"
  },
  "language_info": {
   "codemirror_mode": {
    "name": "ipython",
    "version": 3
   },
   "file_extension": ".py",
   "mimetype": "text/x-python",
   "name": "python",
   "nbconvert_exporter": "python",
   "pygments_lexer": "ipython3",
   "version": "3.10.12"
  }
 },
 "nbformat": 4,
 "nbformat_minor": 2
}
