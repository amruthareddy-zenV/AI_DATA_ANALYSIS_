{
 "cells": [
  {
   "cell_type": "markdown",
   "metadata": {},
   "source": [
    "## Isolation Forest for Anomaly Detection\n",
    "**Objective**: Understand and apply the Isolation Forest algorithm to identify anomalies in datasets.\n",
    "\n",
    "### Task: Anomaly Detection in Sensor Data\n",
    "**Steps**:\n",
    "1. Load Dataset\n",
    "2. Feature Selection\n",
    "3. Isolation Forest Implementation\n",
    "4. Plot Results"
   ]
  },
  {
   "cell_type": "code",
   "execution_count": null,
   "metadata": {},
   "outputs": [],
   "source": [
    "# write your code from here"
   ]
  },
  {
   "cell_type": "code",
   "execution_count": 1,
   "metadata": {},
   "outputs": [
    {
     "name": "stdout",
     "output_type": "stream",
     "text": [
      "   Sensor1  Sensor2\n",
      "0       10       20\n",
      "1       12       22\n",
      "2       10       21\n",
      "3       11       19\n",
      "4      100      200\n",
      "5       12       21\n",
      "6       11       20\n",
      "7       10       19\n",
      "8        9       18\n",
      "9       11       21\n"
     ]
    }
   ],
   "source": [
    "import pandas as pd\n",
    "from sklearn.ensemble import IsolationForest\n",
    "\n",
    "import matplotlib.pyplot as plt\n",
    "\n",
    "# Load a sample dataset (replace with your actual dataset)\n",
    "# For example, let's create a synthetic dataset\n",
    "data = {'Sensor1': [10, 12, 10, 11, 100, 12, 11, 10, 9, 11],\n",
    "    'Sensor2': [20, 22, 21, 19, 200, 21, 20, 19, 18, 21]}\n",
    "df = pd.DataFrame(data)\n",
    "\n",
    "# Display the dataset\n",
    "print(df)"
   ]
  }
 ],
 "metadata": {
  "kernelspec": {
   "display_name": "Python 3",
   "language": "python",
   "name": "python3"
  },
  "language_info": {
   "codemirror_mode": {
    "name": "ipython",
    "version": 3
   },
   "file_extension": ".py",
   "mimetype": "text/x-python",
   "name": "python",
   "nbconvert_exporter": "python",
   "pygments_lexer": "ipython3",
   "version": "3.10.12"
  }
 },
 "nbformat": 4,
 "nbformat_minor": 2
}
