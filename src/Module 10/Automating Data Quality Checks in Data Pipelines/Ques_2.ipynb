{
 "cells": [
  {
   "cell_type": "markdown",
   "metadata": {},
   "source": [
    "## Automated Data Quality Monitoring\n",
    "**Objective**: Use Great Expectations to perform data profiling and write validation rules.\n",
    "\n",
    "1. Data Profiling with Great Expectations\n",
    "### Profile a CSV dataset containing customer information to inspect distribution patterns of 'Age' and 'Income' columns.\n",
    "- Load the dataset using Great Expectations and create a data context.\n",
    "- Generate a data asset to inspect the summary statistics.\n",
    "- View the generated expectation suite to analyze data distributions."
   ]
  },
  {
   "cell_type": "code",
   "execution_count": null,
   "metadata": {},
   "outputs": [],
   "source": [
    "# write your code from here"
   ]
  },
  {
   "cell_type": "code",
   "execution_count": 1,
   "metadata": {},
   "outputs": [
    {
     "ename": "ModuleNotFoundError",
     "evalue": "No module named 'great_expectations'",
     "output_type": "error",
     "traceback": [
      "\u001b[0;31m---------------------------------------------------------------------------\u001b[0m",
      "\u001b[0;31mModuleNotFoundError\u001b[0m                       Traceback (most recent call last)",
      "Cell \u001b[0;32mIn[1], line 1\u001b[0m\n\u001b[0;32m----> 1\u001b[0m \u001b[38;5;28;01mimport\u001b[39;00m\u001b[38;5;250m \u001b[39m\u001b[38;5;21;01mgreat_expectations\u001b[39;00m\u001b[38;5;250m \u001b[39m\u001b[38;5;28;01mas\u001b[39;00m\u001b[38;5;250m \u001b[39m\u001b[38;5;21;01mge\u001b[39;00m\n\u001b[1;32m      3\u001b[0m \u001b[38;5;66;03m# Load the dataset\u001b[39;00m\n\u001b[1;32m      4\u001b[0m data_file \u001b[38;5;241m=\u001b[39m \u001b[38;5;124m\"\u001b[39m\u001b[38;5;124mcustomer_data.csv\u001b[39m\u001b[38;5;124m\"\u001b[39m  \u001b[38;5;66;03m# Replace with the path to your CSV file\u001b[39;00m\n",
      "\u001b[0;31mModuleNotFoundError\u001b[0m: No module named 'great_expectations'"
     ]
    }
   ],
   "source": [
    "import great_expectations as ge\n",
    "\n",
    "# Load the dataset\n",
    "data_file = \"customer_data.csv\"  # Replace with the path to your CSV file\n",
    "df_ge = ge.read_csv(data_file)\n",
    "\n",
    "# Create a data context and generate a data asset\n",
    "context = ge.data_context.DataContext()\n",
    "batch = ge.dataset.PandasDataset(df_ge)\n",
    "\n",
    "# Inspect summary statistics\n",
    "print(batch.get_expectation_suite())"
   ]
  },
  {
   "cell_type": "markdown",
   "metadata": {},
   "source": [
    "2. Writing Validation Rules for Data Ingestion\n",
    "### Write validation rules for a CSV file to ensure the 'Date' column follows a specific date format.\n",
    "- Utilize expect_column_values_to_match_regex to enforce date format validation.\n",
    "- Run the validation and interpret the output."
   ]
  },
  {
   "cell_type": "code",
   "execution_count": null,
   "metadata": {},
   "outputs": [],
   "source": [
    "# write your code from here"
   ]
  },
  {
   "cell_type": "code",
   "execution_count": 2,
   "metadata": {},
   "outputs": [
    {
     "ename": "NameError",
     "evalue": "name 'batch' is not defined",
     "output_type": "error",
     "traceback": [
      "\u001b[0;31m---------------------------------------------------------------------------\u001b[0m",
      "\u001b[0;31mNameError\u001b[0m                                 Traceback (most recent call last)",
      "Cell \u001b[0;32mIn[2], line 5\u001b[0m\n\u001b[1;32m      2\u001b[0m date_format_regex \u001b[38;5;241m=\u001b[39m \u001b[38;5;124mr\u001b[39m\u001b[38;5;124m\"\u001b[39m\u001b[38;5;124m^\u001b[39m\u001b[38;5;124m\\\u001b[39m\u001b[38;5;124md\u001b[39m\u001b[38;5;132;01m{4}\u001b[39;00m\u001b[38;5;124m-\u001b[39m\u001b[38;5;124m\\\u001b[39m\u001b[38;5;124md\u001b[39m\u001b[38;5;132;01m{2}\u001b[39;00m\u001b[38;5;124m-\u001b[39m\u001b[38;5;124m\\\u001b[39m\u001b[38;5;124md\u001b[39m\u001b[38;5;132;01m{2}\u001b[39;00m\u001b[38;5;124m$\u001b[39m\u001b[38;5;124m\"\u001b[39m  \u001b[38;5;66;03m# Example: YYYY-MM-DD\u001b[39;00m\n\u001b[1;32m      4\u001b[0m \u001b[38;5;66;03m# Add an expectation to validate the date format\u001b[39;00m\n\u001b[0;32m----> 5\u001b[0m \u001b[43mbatch\u001b[49m\u001b[38;5;241m.\u001b[39mexpect_column_values_to_match_regex(\u001b[38;5;124m\"\u001b[39m\u001b[38;5;124mDate\u001b[39m\u001b[38;5;124m\"\u001b[39m, date_format_regex)\n\u001b[1;32m      7\u001b[0m \u001b[38;5;66;03m# Run the validation and display the results\u001b[39;00m\n\u001b[1;32m      8\u001b[0m validation_results \u001b[38;5;241m=\u001b[39m batch\u001b[38;5;241m.\u001b[39mvalidate()\n",
      "\u001b[0;31mNameError\u001b[0m: name 'batch' is not defined"
     ]
    }
   ],
   "source": [
    "# Define a validation rule for the 'Date' column to ensure it follows a specific date format\n",
    "date_format_regex = r\"^\\d{4}-\\d{2}-\\d{2}$\"  # Example: YYYY-MM-DD\n",
    "\n",
    "# Add an expectation to validate the date format\n",
    "batch.expect_column_values_to_match_regex(\"Date\", date_format_regex)\n",
    "\n",
    "# Run the validation and display the results\n",
    "validation_results = batch.validate()\n",
    "print(validation_results)"
   ]
  }
 ],
 "metadata": {
  "kernelspec": {
   "display_name": "Python 3",
   "language": "python",
   "name": "python3"
  },
  "language_info": {
   "codemirror_mode": {
    "name": "ipython",
    "version": 3
   },
   "file_extension": ".py",
   "mimetype": "text/x-python",
   "name": "python",
   "nbconvert_exporter": "python",
   "pygments_lexer": "ipython3",
   "version": "3.10.12"
  }
 },
 "nbformat": 4,
 "nbformat_minor": 2
}
