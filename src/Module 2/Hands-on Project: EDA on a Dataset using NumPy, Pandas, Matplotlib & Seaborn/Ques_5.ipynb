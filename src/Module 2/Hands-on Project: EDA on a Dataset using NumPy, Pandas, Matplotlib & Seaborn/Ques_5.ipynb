{
 "cells": [
  {
   "cell_type": "code",
   "execution_count": 1,
   "metadata": {},
   "outputs": [
    {
     "name": "stdout",
     "output_type": "stream",
     "text": [
      "Missing values before imputation:\n",
      "A    1\n",
      "B    1\n",
      "C    1\n",
      "dtype: int64\n",
      "\n",
      "Missing values after imputation:\n",
      "A    0\n",
      "B    0\n",
      "C    0\n",
      "dtype: int64\n",
      "\n",
      "Cleaned DataFrame:\n",
      "     A     B      C\n",
      "0  1.0  10.0  100.0\n",
      "1  2.0  35.0  200.0\n",
      "2  3.0  30.0  300.0\n",
      "3  4.0  40.0  250.0\n",
      "4  5.0  50.0  500.0\n"
     ]
    },
    {
     "name": "stderr",
     "output_type": "stream",
     "text": [
      "/tmp/ipykernel_15768/585528399.py:21: FutureWarning: A value is trying to be set on a copy of a DataFrame or Series through chained assignment using an inplace method.\n",
      "The behavior will change in pandas 3.0. This inplace method will never work because the intermediate object on which we are setting values always behaves as a copy.\n",
      "\n",
      "For example, when doing 'df[col].method(value, inplace=True)', try using 'df.method({col: value}, inplace=True)' or df[col] = df[col].method(value) instead, to perform the operation inplace on the original object.\n",
      "\n",
      "\n",
      "  df[column].fillna(median_value, inplace=True)\n",
      "/tmp/ipykernel_15768/585528399.py:21: FutureWarning: A value is trying to be set on a copy of a DataFrame or Series through chained assignment using an inplace method.\n",
      "The behavior will change in pandas 3.0. This inplace method will never work because the intermediate object on which we are setting values always behaves as a copy.\n",
      "\n",
      "For example, when doing 'df[col].method(value, inplace=True)', try using 'df.method({col: value}, inplace=True)' or df[col] = df[col].method(value) instead, to perform the operation inplace on the original object.\n",
      "\n",
      "\n",
      "  df[column].fillna(median_value, inplace=True)\n",
      "/tmp/ipykernel_15768/585528399.py:21: FutureWarning: A value is trying to be set on a copy of a DataFrame or Series through chained assignment using an inplace method.\n",
      "The behavior will change in pandas 3.0. This inplace method will never work because the intermediate object on which we are setting values always behaves as a copy.\n",
      "\n",
      "For example, when doing 'df[col].method(value, inplace=True)', try using 'df.method({col: value}, inplace=True)' or df[col] = df[col].method(value) instead, to perform the operation inplace on the original object.\n",
      "\n",
      "\n",
      "  df[column].fillna(median_value, inplace=True)\n"
     ]
    }
   ],
   "source": [
    "# Title: Data Cleaning using Pandas\n",
    "# Description: Check for missing values and handle them by imputing the median.\n",
    "import pandas as pd\n",
    "import numpy as np\n",
    "\n",
    "# Sample DataFrame with missing values\n",
    "data = {\n",
    "    'A': [1, 2, np.nan, 4, 5],\n",
    "    'B': [10, np.nan, 30, 40, 50],\n",
    "    'C': [100, 200, 300, np.nan, 500]\n",
    "}\n",
    "df = pd.DataFrame(data)\n",
    "\n",
    "# 1. Check for missing values\n",
    "print(\"Missing values before imputation:\")\n",
    "print(df.isnull().sum())\n",
    "\n",
    "# 2. Impute missing values with column medians\n",
    "for column in df.columns:\n",
    "    median_value = df[column].median()\n",
    "    df[column].fillna(median_value, inplace=True)\n",
    "\n",
    "# 3. Verify no missing values remain\n",
    "print(\"\\nMissing values after imputation:\")\n",
    "print(df.isnull().sum())\n",
    "\n",
    "# Show the cleaned DataFrame\n",
    "print(\"\\nCleaned DataFrame:\")\n",
    "print(df)"
   ]
  }
 ],
 "metadata": {
  "kernelspec": {
   "display_name": ".venv",
   "language": "python",
   "name": "python3"
  },
  "language_info": {
   "codemirror_mode": {
    "name": "ipython",
    "version": 3
   },
   "file_extension": ".py",
   "mimetype": "text/x-python",
   "name": "python",
   "nbconvert_exporter": "python",
   "pygments_lexer": "ipython3",
   "version": "3.10.12"
  }
 },
 "nbformat": 4,
 "nbformat_minor": 2
}
