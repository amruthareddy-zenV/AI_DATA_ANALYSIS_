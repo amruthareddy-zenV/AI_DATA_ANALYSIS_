{
 "cells": [
  {
   "cell_type": "markdown",
   "metadata": {},
   "source": [
    "### Define Data Quality KPIs\n",
    "\n",
    "**Task 1**: Identify Relevant KPIs\n",
    "\n",
    "**Objective**: Develop KPIs that align with organizational goals.\n",
    "\n",
    "**Steps**:\n",
    "1. Choose a dataset from a domain of your interest (e.g., sales data, healthcare records, or transaction logs).\n",
    "2. Identify three KPIs that would be crucial for assessing the data quality in your chosen dataset. Consider accuracy, completeness, and timeliness.\n",
    "3. Document why each KPI is important for maintaining high-quality data in your given context."
   ]
  },
  {
   "cell_type": "code",
   "execution_count": null,
   "metadata": {},
   "outputs": [],
   "source": [
    "# Write your code from here"
   ]
  },
  {
   "cell_type": "code",
   "execution_count": 1,
   "metadata": {},
   "outputs": [
    {
     "name": "stdout",
     "output_type": "stream",
     "text": [
      "Total Records: 5\n",
      "Missing Values: 3\n",
      "Timeliness (% of records with Last_Updated): 80.00%\n"
     ]
    }
   ],
   "source": [
    "import pandas as pd\n",
    "\n",
    "# Sample dataset\n",
    "data = {\n",
    "    'Record_ID': [1, 2, 3, 4, 5],\n",
    "    'Name': ['Alice', 'Bob', None, 'David', 'Eve'],\n",
    "    'Age': [25, 30, 35, None, 29],\n",
    "    'Last_Updated': ['2023-01-01', '2023-01-02', None, '2023-01-04', '2023-01-05']\n",
    "}\n",
    "\n",
    "df = pd.DataFrame(data)\n",
    "\n",
    "# Define KPIs\n",
    "total_records = len(df)\n",
    "missing_values = df.isnull().sum().sum()\n",
    "timeliness = df['Last_Updated'].notnull().sum() / total_records * 100\n",
    "\n",
    "# Print KPIs\n",
    "print(f\"Total Records: {total_records}\")\n",
    "print(f\"Missing Values: {missing_values}\")\n",
    "print(f\"Timeliness (% of records with Last_Updated): {timeliness:.2f}%\")"
   ]
  },
  {
   "cell_type": "markdown",
   "metadata": {},
   "source": [
    "**Task 2**: Develop a KPI Dashboard\n",
    "\n",
    "**Objective**: Visualize your KPIs for better monitoring.\n",
    "\n",
    "**Steps**:\n",
    "1. Use a tool like Excel or a BI tool (e.g., Tableau, Power BI) to create a simple dashboard.\n",
    "2. Input sample data and visualize your chosen KPIs, showing how they would be monitored.\n",
    "3. Share your dashboard with peers and gather feedback on KPI relevance and clarity."
   ]
  },
  {
   "cell_type": "code",
   "execution_count": null,
   "metadata": {},
   "outputs": [],
   "source": [
    "# Write your code from here"
   ]
  },
  {
   "cell_type": "code",
   "execution_count": 2,
   "metadata": {},
   "outputs": [
    {
     "data": {
      "image/png": "[encoded data removed]",
      "text/plain": [
       "<Figure size 800x500 with 1 Axes>"
      ]
     },
     "metadata": {},
     "output_type": "display_data"
    }
   ],
   "source": [
    "# Visualize the KPIs using a bar chart\n",
    "import matplotlib.pyplot as plt\n",
    "\n",
    "# KPI values\n",
    "kpi_names = ['Total Records', 'Missing Values', 'Timeliness (%)']\n",
    "kpi_values = [total_records, missing_values, timeliness]\n",
    "\n",
    "# Create the bar chart\n",
    "plt.figure(figsize=(8, 5))\n",
    "plt.bar(kpi_names, kpi_values, color=['blue', 'orange', 'green'])\n",
    "plt.title('Data Quality KPIs')\n",
    "plt.ylabel('Values')\n",
    "plt.ylim(0, 100)  # Set y-axis limit for better visualization\n",
    "plt.show()"
   ]
  },
  {
   "cell_type": "code",
   "execution_count": null,
   "metadata": {},
   "outputs": [],
   "source": []
  }
 ],
 "metadata": {
  "kernelspec": {
   "display_name": ".venv",
   "language": "python",
   "name": "python3"
  },
  "language_info": {
   "codemirror_mode": {
    "name": "ipython",
    "version": 3
   },
   "file_extension": ".py",
   "mimetype": "text/x-python",
   "name": "python",
   "nbconvert_exporter": "python",
   "pygments_lexer": "ipython3",
   "version": "3.10.12"
  }
 },
 "nbformat": 4,
 "nbformat_minor": 2
}
