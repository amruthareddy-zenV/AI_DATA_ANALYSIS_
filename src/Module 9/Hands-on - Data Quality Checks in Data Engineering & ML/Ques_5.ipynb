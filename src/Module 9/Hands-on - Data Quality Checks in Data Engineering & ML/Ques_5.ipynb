{
 "cells": [
  {
   "cell_type": "markdown",
   "metadata": {},
   "source": [
    "## Detect Schema Mismatches in Data Pipelines\n",
    "**Objective**: Identify and resolve schema mismatches that commonly occur in data pipelines.\n",
    "\n",
    "**Task**: Missing Column\n",
    "\n",
    "1. Load the source DataFrame with the below schema:\n",
    "    - id : Integer\n",
    "    - email : String\n",
    "    - signup_date : Date\n",
    "2. Load the target DataFrame with the below schema:\n",
    "    - id : Integer\n",
    "    - email : String\n",
    "3. Implement a check to identify any columns that are present in the source DataFrame but missing in the target.\n",
    "4. Add the missing `signup_date` column to the target DataFrame."
   ]
  },
  {
   "cell_type": "code",
   "execution_count": null,
   "metadata": {},
   "outputs": [],
   "source": [
    "# write your code from here"
   ]
  },
  {
   "cell_type": "code",
   "execution_count": 1,
   "metadata": {},
   "outputs": [
    {
     "name": "stdout",
     "output_type": "stream",
     "text": [
      "Missing columns: {'signup_date'}\n",
      "Updated target DataFrame:\n",
      "   id              email signup_date\n",
      "0   1  user1@example.com        None\n",
      "1   2  user2@example.com        None\n",
      "2   3  user3@example.com        None\n"
     ]
    }
   ],
   "source": [
    "import pandas as pd\n",
    "from datetime import datetime\n",
    "\n",
    "# Create the source DataFrame\n",
    "source_data = {\n",
    "    'id': [1, 2, 3],\n",
    "    'email': ['user1@example.com', 'user2@example.com', 'user3@example.com'],\n",
    "    'signup_date': [datetime(2023, 1, 1), datetime(2023, 1, 2), datetime(2023, 1, 3)]\n",
    "}\n",
    "source_df = pd.DataFrame(source_data)\n",
    "\n",
    "# Create the target DataFrame\n",
    "target_data = {\n",
    "    'id': [1, 2, 3],\n",
    "    'email': ['user1@example.com', 'user2@example.com', 'user3@example.com']\n",
    "}\n",
    "target_df = pd.DataFrame(target_data)\n",
    "\n",
    "# Identify missing columns\n",
    "missing_columns = set(source_df.columns) - set(target_df.columns)\n",
    "print(f\"Missing columns: {missing_columns}\")\n",
    "\n",
    "# Add missing columns to the target DataFrame\n",
    "for column in missing_columns:\n",
    "    target_df[column] = None\n",
    "\n",
    "print(\"Updated target DataFrame:\")\n",
    "print(target_df)"
   ]
  }
 ],
 "metadata": {
  "kernelspec": {
   "display_name": "Python 3",
   "language": "python",
   "name": "python3"
  },
  "language_info": {
   "codemirror_mode": {
    "name": "ipython",
    "version": 3
   },
   "file_extension": ".py",
   "mimetype": "text/x-python",
   "name": "python",
   "nbconvert_exporter": "python",
   "pygments_lexer": "ipython3",
   "version": "3.10.12"
  }
 },
 "nbformat": 4,
 "nbformat_minor": 2
}
