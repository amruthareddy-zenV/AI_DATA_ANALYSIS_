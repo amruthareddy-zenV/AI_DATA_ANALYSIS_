{
 "cells": [
  {
   "cell_type": "code",
   "execution_count": 1,
   "metadata": {},
   "outputs": [
    {
     "name": "stdout",
     "output_type": "stream",
     "text": [
      "Mean: 3.0\n"
     ]
    }
   ],
   "source": [
    "# Title: Basic NumPy Operations\n",
    "# Description: Perform basic operations such as calculating the mean of the dataset.\n",
    "import numpy as np\n",
    "\n",
    "# Sample dataset\n",
    "data = np.array([1, 2, 3, 4, 5])\n",
    "\n",
    "# Calculate mean\n",
    "mean = np.mean(data)\n",
    "print(\"Mean:\", mean)"
   ]
  }
 ],
 "metadata": {
  "kernelspec": {
   "display_name": ".venv",
   "language": "python",
   "name": "python3"
  },
  "language_info": {
   "codemirror_mode": {
    "name": "ipython",
    "version": 3
   },
   "file_extension": ".py",
   "mimetype": "text/x-python",
   "name": "python",
   "nbconvert_exporter": "python",
   "pygments_lexer": "ipython3",
   "version": "3.10.12"
  }
 },
 "nbformat": 4,
 "nbformat_minor": 2
}
