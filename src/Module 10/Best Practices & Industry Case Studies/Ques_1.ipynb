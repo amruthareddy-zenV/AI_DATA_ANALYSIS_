{
 "cells": [
  {
   "cell_type": "markdown",
   "metadata": {},
   "source": [
    "## Defining Data Quality SLAs\n",
    "### Data Completeness\n",
    "**Description**: Set an SLA that ensures that 95% of data fields in your dataset are filled (non-null values). Practice by checking a dataset of your choice and calculate its completeness."
   ]
  },
  {
   "cell_type": "code",
   "execution_count": null,
   "metadata": {},
   "outputs": [],
   "source": [
    "# write your code from here"
   ]
  },
  {
   "cell_type": "code",
   "execution_count": 1,
   "metadata": {},
   "outputs": [
    {
     "name": "stdout",
     "output_type": "stream",
     "text": [
      "Data Completeness: 66.67%\n"
     ]
    }
   ],
   "source": [
    "import pandas as pd\n",
    "\n",
    "# Example dataset\n",
    "data = {\n",
    "    'Column1': [1, 2, None, 4],\n",
    "    'Column2': [None, 2, 3, 4],\n",
    "    'Column3': [1, None, 3, None]\n",
    "}\n",
    "\n",
    "df = pd.DataFrame(data)\n",
    "\n",
    "# Calculate completeness\n",
    "completeness = df.notnull().sum().sum() / df.size * 100\n",
    "print(f\"Data Completeness: {completeness:.2f}%\")"
   ]
  },
  {
   "cell_type": "markdown",
   "metadata": {},
   "source": [
    "### Data Timeliness:\n",
    "**Description**: Establish an SLA that specifies that data should be integrated and processed within 24 hours of acquisition. Monitor the data pipeline for timeliness."
   ]
  },
  {
   "cell_type": "code",
   "execution_count": null,
   "metadata": {},
   "outputs": [],
   "source": [
    "# write your code from here"
   ]
  },
  {
   "cell_type": "code",
   "execution_count": 2,
   "metadata": {},
   "outputs": [
    {
     "name": "stdout",
     "output_type": "stream",
     "text": [
      "Column-wise Completeness:\n",
      "Column1    75.0\n",
      "Column2    75.0\n",
      "Column3    50.0\n",
      "dtype: float64\n"
     ]
    }
   ],
   "source": [
    "# Check which columns have the highest completeness percentage\n",
    "column_completeness = df.notnull().sum() / len(df) * 100\n",
    "print(\"Column-wise Completeness:\")\n",
    "print(column_completeness)"
   ]
  },
  {
   "cell_type": "markdown",
   "metadata": {},
   "source": [
    "### Data Consistency:\n",
    "**Description**: Define an SLA for maintaining consistency across various related datasets. Implement a check to ensure that 99% of data entries are consistent."
   ]
  },
  {
   "cell_type": "code",
   "execution_count": null,
   "metadata": {},
   "outputs": [],
   "source": [
    "# write your code from here"
   ]
  },
  {
   "cell_type": "code",
   "execution_count": 3,
   "metadata": {},
   "outputs": [
    {
     "name": "stdout",
     "output_type": "stream",
     "text": [
      "Column with the lowest completeness: Column3 (50.00%)\n"
     ]
    }
   ],
   "source": [
    "# Identify the column with the lowest completeness percentage\n",
    "lowest_completeness_column = column_completeness.idxmin()\n",
    "lowest_completeness_value = column_completeness.min()\n",
    "\n",
    "print(f\"Column with the lowest completeness: {lowest_completeness_column} ({lowest_completeness_value:.2f}%)\")"
   ]
  }
 ],
 "metadata": {
  "kernelspec": {
   "display_name": "Python 3",
   "language": "python",
   "name": "python3"
  },
  "language_info": {
   "codemirror_mode": {
    "name": "ipython",
    "version": 3
   },
   "file_extension": ".py",
   "mimetype": "text/x-python",
   "name": "python",
   "nbconvert_exporter": "python",
   "pygments_lexer": "ipython3",
   "version": "3.10.12"
  }
 },
 "nbformat": 4,
 "nbformat_minor": 2
}
