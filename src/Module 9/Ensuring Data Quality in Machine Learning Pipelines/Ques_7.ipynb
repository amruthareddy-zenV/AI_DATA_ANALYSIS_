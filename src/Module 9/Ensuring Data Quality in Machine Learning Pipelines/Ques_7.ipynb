{
 "cells": [
  {
   "cell_type": "markdown",
   "metadata": {},
   "source": [
    "### Feature Engineering Best Practices: Handling Text Data\n",
    "**Question**: Load a dataset with text data (e.g., SMS Spam Collection), perform text\n",
    "preprocessing, and extract numerical features using TF-IDF."
   ]
  },
  {
   "cell_type": "code",
   "execution_count": null,
   "metadata": {},
   "outputs": [],
   "source": [
    "# write your code from here"
   ]
  },
  {
   "cell_type": "code",
   "execution_count": 1,
   "metadata": {},
   "outputs": [
    {
     "name": "stdout",
     "output_type": "stream",
     "text": [
      "       1000      2000      card  chance  competition  congratulations  \\\n",
      "0  0.000000  0.000000  0.000000     0.0     0.333333         0.000000   \n",
      "1  0.000000  0.000000  0.000000     0.0     0.000000         0.000000   \n",
      "2  0.420669  0.000000  0.420669     0.0     0.000000         0.420669   \n",
      "3  0.000000  0.000000  0.000000     1.0     0.000000         0.000000   \n",
      "4  0.000000  0.387757  0.000000     0.0     0.000000         0.000000   \n",
      "\n",
      "        cup      draw     entry        fa  ...    mobile    number     prize  \\\n",
      "0  0.333333  0.000000  0.333333  0.333333  ...  0.000000  0.000000  0.000000   \n",
      "1  0.000000  0.000000  0.000000  0.000000  ...  0.000000  0.000000  0.000000   \n",
      "2  0.000000  0.000000  0.000000  0.000000  ...  0.000000  0.000000  0.000000   \n",
      "3  0.000000  0.000000  0.000000  0.000000  ...  0.000000  0.000000  0.000000   \n",
      "4  0.000000  0.387757  0.000000  0.000000  ...  0.387757  0.387757  0.387757   \n",
      "\n",
      "    tickets  today    urgent   walmart    weekly       win       won  \n",
      "0  0.333333    0.0  0.000000  0.000000  0.333333  0.333333  0.000000  \n",
      "1  0.000000    0.5  0.000000  0.000000  0.000000  0.000000  0.000000  \n",
      "2  0.000000    0.0  0.000000  0.420669  0.000000  0.000000  0.339393  \n",
      "3  0.000000    0.0  0.000000  0.000000  0.000000  0.000000  0.000000  \n",
      "4  0.000000    0.0  0.387757  0.000000  0.000000  0.000000  0.312840  \n",
      "\n",
      "[5 rows x 26 columns]\n"
     ]
    }
   ],
   "source": [
    "from sklearn.feature_extraction.text import TfidfVectorizer\n",
    "import pandas as pd\n",
    "\n",
    "# Example dataset: SMS Spam Collection\n",
    "data = {\n",
    "    'Message': [\n",
    "        'Free entry in 2 a weekly competition to win FA Cup final tickets',\n",
    "        'Hey, are we still meeting for lunch today?',\n",
    "        'Congratulations! You have won a $1000 Walmart gift card.',\n",
    "        'Can you call me back when you get a chance?',\n",
    "        'URGENT! Your mobile number has won £2000 in a prize draw.'\n",
    "    ],\n",
    "    'Label': ['Spam', 'Ham', 'Spam', 'Ham', 'Spam']\n",
    "}\n",
    "\n",
    "# Create a DataFrame\n",
    "df = pd.DataFrame(data)\n",
    "\n",
    "# Text preprocessing and TF-IDF feature extraction\n",
    "tfidf_vectorizer = TfidfVectorizer(stop_words='english')\n",
    "tfidf_features = tfidf_vectorizer.fit_transform(df['Message'])\n",
    "\n",
    "# Convert TF-IDF features to a DataFrame for better visualization\n",
    "tfidf_df = pd.DataFrame(tfidf_features.toarray(), columns=tfidf_vectorizer.get_feature_names_out())\n",
    "\n",
    "print(tfidf_df)"
   ]
  }
 ],
 "metadata": {
  "kernelspec": {
   "display_name": "Python 3",
   "language": "python",
   "name": "python3"
  },
  "language_info": {
   "codemirror_mode": {
    "name": "ipython",
    "version": 3
   },
   "file_extension": ".py",
   "mimetype": "text/x-python",
   "name": "python",
   "nbconvert_exporter": "python",
   "pygments_lexer": "ipython3",
   "version": "3.10.12"
  }
 },
 "nbformat": 4,
 "nbformat_minor": 2
}
