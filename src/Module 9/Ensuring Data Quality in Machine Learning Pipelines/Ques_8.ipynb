{
 "cells": [
  {
   "cell_type": "markdown",
   "metadata": {},
   "source": [
    "### Data Drift: Detection Using Statistical Tests\n",
    "**Question**: Simulate two datasets with a shift in distribution, and apply the Kolmogorov-\n",
    "Smirnov test to determine if data drift has occurred."
   ]
  },
  {
   "cell_type": "code",
   "execution_count": null,
   "metadata": {},
   "outputs": [],
   "source": [
    "# write your code from here"
   ]
  },
  {
   "cell_type": "code",
   "execution_count": 1,
   "metadata": {},
   "outputs": [
    {
     "name": "stdout",
     "output_type": "stream",
     "text": [
      "KS Statistic: 0.242\n",
      "P-value: 4.2252283893369713e-26\n",
      "Data drift detected (statistically significant difference between distributions).\n"
     ]
    }
   ],
   "source": [
    "import numpy as np\n",
    "from scipy.stats import ks_2samp\n",
    "\n",
    "# Simulate two datasets\n",
    "np.random.seed(42)\n",
    "data1 = np.random.normal(loc=0, scale=1, size=1000)  # Dataset 1: Normal distribution with mean=0\n",
    "data2 = np.random.normal(loc=0.5, scale=1, size=1000)  # Dataset 2: Normal distribution with mean=0.5\n",
    "\n",
    "# Apply the Kolmogorov-Smirnov test\n",
    "ks_stat, p_value = ks_2samp(data1, data2)\n",
    "\n",
    "# Print the results\n",
    "print(f\"KS Statistic: {ks_stat}\")\n",
    "print(f\"P-value: {p_value}\")\n",
    "\n",
    "# Determine if data drift has occurred\n",
    "if p_value < 0.05:\n",
    "    print(\"Data drift detected (statistically significant difference between distributions).\")\n",
    "else:\n",
    "    print(\"No data drift detected (distributions are not significantly different).\")"
   ]
  }
 ],
 "metadata": {
  "kernelspec": {
   "display_name": "Python 3",
   "language": "python",
   "name": "python3"
  },
  "language_info": {
   "codemirror_mode": {
    "name": "ipython",
    "version": 3
   },
   "file_extension": ".py",
   "mimetype": "text/x-python",
   "name": "python",
   "nbconvert_exporter": "python",
   "pygments_lexer": "ipython3",
   "version": "3.10.12"
  }
 },
 "nbformat": 4,
 "nbformat_minor": 2
}
