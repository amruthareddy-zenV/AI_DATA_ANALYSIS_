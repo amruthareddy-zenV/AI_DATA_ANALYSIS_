{
 "cells": [
  {
   "cell_type": "markdown",
   "metadata": {},
   "source": [
    "### Handling Unstructured Data with Python\n",
    "**Description**: Extract structured data from unstructured text using Python.\n",
    "\n",
    "**Steps**:\n",
    "1. Load and analyze an unstructured text document.\n",
    "2. Extract information using regex."
   ]
  },
  {
   "cell_type": "code",
   "execution_count": null,
   "metadata": {},
   "outputs": [],
   "source": [
    "# write your code from here"
   ]
  },
  {
   "cell_type": "code",
   "execution_count": 1,
   "metadata": {},
   "outputs": [
    {
     "name": "stdout",
     "output_type": "stream",
     "text": [
      "[{'Name': '\\nJohn Doe', 'Age': '29', 'Email': 'john.doe@example.com'}, {'Name': '\\nJane Smith', 'Age': '34', 'Email': 'jane.smith@example.com'}]\n"
     ]
    }
   ],
   "source": [
    "import re\n",
    "\n",
    "# Sample unstructured text\n",
    "text = \"\"\"\n",
    "John Doe, Age: 29, Email: john.doe@example.com\n",
    "Jane Smith, Age: 34, Email: jane.smith@example.com\n",
    "\"\"\"\n",
    "\n",
    "# Define a regex pattern to extract name, age, and email\n",
    "pattern = r\"(?P<Name>[A-Za-z\\s]+), Age: (?P<Age>\\d+), Email: (?P<Email>[a-zA-Z0-9._%+-]+@[a-zA-Z0-9.-]+\\.[a-zA-Z]{2,})\"\n",
    "\n",
    "# Find all matches\n",
    "matches = re.finditer(pattern, text)\n",
    "\n",
    "# Extract structured data\n",
    "data = []\n",
    "for match in matches:\n",
    "    data.append(match.groupdict())\n",
    "\n",
    "# Display the extracted data\n",
    "print(data)"
   ]
  }
 ],
 "metadata": {
  "kernelspec": {
   "display_name": "Python 3",
   "language": "python",
   "name": "python3"
  },
  "language_info": {
   "codemirror_mode": {
    "name": "ipython",
    "version": 3
   },
   "file_extension": ".py",
   "mimetype": "text/x-python",
   "name": "python",
   "nbconvert_exporter": "python",
   "pygments_lexer": "ipython3",
   "version": "3.10.12"
  }
 },
 "nbformat": 4,
 "nbformat_minor": 2
}
