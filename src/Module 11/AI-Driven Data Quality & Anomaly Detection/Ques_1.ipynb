{
 "cells": [
  {
   "cell_type": "markdown",
   "metadata": {},
   "source": [
    "# Automated Anomaly Detection\n",
    "**Objective**: Understand and practice automated anomaly detection using various techniques.\n",
    "\n",
    "**Task**: Automated Anomaly Detection using Z-score method\n",
    "\n",
    "**Steps**:\n",
    "1. Data Set: Download a dataset representing daily sales figures for a retail store.\n",
    "2. Calculate Z-score: Compute the mean and standard deviation of the sales. Use these to\n",
    "calculate the Z-score for each day's sales figure.\n",
    "3. Identify Anomalies: Detect anomalies by identifying values with a Z-score above 3 or below -3.\n",
    "4. Visualize: Plot a graph to visualize anomalies."
   ]
  },
  {
   "cell_type": "code",
   "execution_count": null,
   "metadata": {},
   "outputs": [],
   "source": [
    "# write your code from here"
   ]
  },
  {
   "cell_type": "code",
   "execution_count": 1,
   "metadata": {},
   "outputs": [
    {
     "data": {
      "text/html": [
       "<div>\n",
       "<style scoped>\n",
       "    .dataframe tbody tr th:only-of-type {\n",
       "        vertical-align: middle;\n",
       "    }\n",
       "\n",
       "    .dataframe tbody tr th {\n",
       "        vertical-align: top;\n",
       "    }\n",
       "\n",
       "    .dataframe thead th {\n",
       "        text-align: right;\n",
       "    }\n",
       "</style>\n",
       "<table border=\"1\" class=\"dataframe\">\n",
       "  <thead>\n",
       "    <tr style=\"text-align: right;\">\n",
       "      <th></th>\n",
       "      <th>Day</th>\n",
       "      <th>Sales</th>\n",
       "      <th>Z-Score</th>\n",
       "      <th>Anomaly</th>\n",
       "    </tr>\n",
       "  </thead>\n",
       "  <tbody>\n",
       "    <tr>\n",
       "      <th>0</th>\n",
       "      <td>1</td>\n",
       "      <td>454.067171</td>\n",
       "      <td>2.184122</td>\n",
       "      <td>No</td>\n",
       "    </tr>\n",
       "    <tr>\n",
       "      <th>1</th>\n",
       "      <td>2</td>\n",
       "      <td>193.086785</td>\n",
       "      <td>-0.299522</td>\n",
       "      <td>No</td>\n",
       "    </tr>\n",
       "    <tr>\n",
       "      <th>2</th>\n",
       "      <td>3</td>\n",
       "      <td>232.384427</td>\n",
       "      <td>0.074457</td>\n",
       "      <td>No</td>\n",
       "    </tr>\n",
       "    <tr>\n",
       "      <th>3</th>\n",
       "      <td>4</td>\n",
       "      <td>276.151493</td>\n",
       "      <td>0.490971</td>\n",
       "      <td>No</td>\n",
       "    </tr>\n",
       "    <tr>\n",
       "      <th>4</th>\n",
       "      <td>5</td>\n",
       "      <td>188.292331</td>\n",
       "      <td>-0.345149</td>\n",
       "      <td>No</td>\n",
       "    </tr>\n",
       "  </tbody>\n",
       "</table>\n",
       "</div>"
      ],
      "text/plain": [
       "   Day       Sales   Z-Score Anomaly\n",
       "0    1  454.067171  2.184122      No\n",
       "1    2  193.086785 -0.299522      No\n",
       "2    3  232.384427  0.074457      No\n",
       "3    4  276.151493  0.490971      No\n",
       "4    5  188.292331 -0.345149      No"
      ]
     },
     "execution_count": 1,
     "metadata": {},
     "output_type": "execute_result"
    }
   ],
   "source": [
    "import pandas as pd\n",
    "import numpy as np\n",
    "\n",
    "# Simulate a dataset representing daily sales figures for a retail store\n",
    "np.random.seed(42)  # For reproducibility\n",
    "sales_data = np.random.normal(loc=200, scale=50, size=100)  # Generate 100 sales figures\n",
    "sales_data[::10] = sales_data[::10] + np.random.normal(loc=300, scale=50, size=10)  # Add anomalies\n",
    "\n",
    "# Create a DataFrame\n",
    "df_sales = pd.DataFrame({'Day': range(1, 101), 'Sales': sales_data})\n",
    "\n",
    "# Calculate mean and standard deviation\n",
    "mean_sales = df_sales['Sales'].mean()\n",
    "std_sales = df_sales['Sales'].std()\n",
    "\n",
    "# Calculate Z-scores\n",
    "df_sales['Z-Score'] = (df_sales['Sales'] - mean_sales) / std_sales\n",
    "\n",
    "# Identify anomalies\n",
    "df_sales['Anomaly'] = df_sales['Z-Score'].apply(lambda z: 'Yes' if z > 3 or z < -3 else 'No')\n",
    "\n",
    "# Display the DataFrame\n",
    "df_sales.head()"
   ]
  }
 ],
 "metadata": {
  "kernelspec": {
   "display_name": "Python 3",
   "language": "python",
   "name": "python3"
  },
  "language_info": {
   "codemirror_mode": {
    "name": "ipython",
    "version": 3
   },
   "file_extension": ".py",
   "mimetype": "text/x-python",
   "name": "python",
   "nbconvert_exporter": "python",
   "pygments_lexer": "ipython3",
   "version": "3.10.12"
  }
 },
 "nbformat": 4,
 "nbformat_minor": 2
}
