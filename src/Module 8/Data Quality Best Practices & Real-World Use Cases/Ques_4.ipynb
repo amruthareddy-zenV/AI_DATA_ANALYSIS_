{
 "cells": [
  {
   "cell_type": "markdown",
   "metadata": {},
   "source": [
    "### Healthcare – Patient Data Accuracy\n",
    "\n",
    "**Task 1**: Patient Record Accuracy Assessment\n",
    "\n",
    "**Objective**: Achieve high accuracy in patient records.\n",
    "\n",
    "**Steps**:\n",
    "1. Examine a sample patient dataset for common inaccuracies.\n",
    "2. Identify at least three common issues, such as medication errors or misdiagnoses.\n",
    "3. Propose validation measures to ensure data accuracy at the point of entry."
   ]
  },
  {
   "cell_type": "code",
   "execution_count": null,
   "metadata": {},
   "outputs": [],
   "source": [
    "# Write your code from here"
   ]
  },
  {
   "cell_type": "code",
   "execution_count": 1,
   "metadata": {},
   "outputs": [
    {
     "name": "stdout",
     "output_type": "stream",
     "text": [
      "Sample Patient Dataset:\n",
      "   PatientID         Name  Age Medication Diagnosis\n",
      "0          1     John Doe   29      DrugA       Flu\n",
      "1          2   Jane Smith   34      DrugB      Cold\n",
      "2          3  Alice Brown   -1      DrugC       Flu\n",
      "3          4    Bob White   45       None          \n",
      "\n",
      "Identifying Common Issues:\n",
      "- Negative age values found.\n",
      "- Missing medication entries found.\n",
      "- Empty diagnosis entries found.\n"
     ]
    }
   ],
   "source": [
    "import pandas as pd\n",
    "\n",
    "# Sample patient dataset\n",
    "data = {\n",
    "    'PatientID': [1, 2, 3, 4],\n",
    "    'Name': ['John Doe', 'Jane Smith', 'Alice Brown', 'Bob White'],\n",
    "    'Age': [29, 34, -1, 45],  # Negative age is an issue\n",
    "    'Medication': ['DrugA', 'DrugB', 'DrugC', None],  # Missing medication is an issue\n",
    "    'Diagnosis': ['Flu', 'Cold', 'Flu', '']  # Empty diagnosis is an issue\n",
    "}\n",
    "\n",
    "# Create a DataFrame\n",
    "patient_df = pd.DataFrame(data)\n",
    "\n",
    "# Display the dataset\n",
    "print(\"Sample Patient Dataset:\")\n",
    "print(patient_df)\n",
    "\n",
    "# Identify common issues\n",
    "print(\"\\nIdentifying Common Issues:\")\n",
    "if (patient_df['Age'] < 0).any():\n",
    "    print(\"- Negative age values found.\")\n",
    "if patient_df['Medication'].isnull().any():\n",
    "    print(\"- Missing medication entries found.\")\n",
    "if patient_df['Diagnosis'].str.strip().eq('').any():\n",
    "    print(\"- Empty diagnosis entries found.\")"
   ]
  },
  {
   "cell_type": "markdown",
   "metadata": {},
   "source": [
    "**Task 2**: Implement Healthcare Data Quality Checks\n",
    "\n",
    "**Objective**: Maintain accurate health records within a healthcare system.\n",
    "\n",
    "**Steps**:\n",
    "1. Develop a validation workflow for patient data.\n",
    "2. Use appropriate software to automate checks for common errors."
   ]
  },
  {
   "cell_type": "code",
   "execution_count": null,
   "metadata": {},
   "outputs": [],
   "source": [
    "# Write your code from here\n"
   ]
  },
  {
   "cell_type": "code",
   "execution_count": 2,
   "metadata": {},
   "outputs": [
    {
     "name": "stdout",
     "output_type": "stream",
     "text": [
      "Cleaned Patient Dataset:\n",
      "   PatientID         Name   Age Medication Diagnosis\n",
      "0          1     John Doe  29.0      DrugA       Flu\n",
      "1          2   Jane Smith  34.0      DrugB      Cold\n",
      "2          3  Alice Brown   NaN      DrugC       Flu\n",
      "3          4    Bob White  45.0    Unknown   Unknown\n",
      "\n",
      "Validation Checks:\n",
      "- No negative age values found.\n",
      "- No missing medication entries found.\n",
      "- No empty diagnosis entries found.\n"
     ]
    }
   ],
   "source": [
    "# Data Quality Checks and Fixes\n",
    "\n",
    "# Fix negative age values by replacing them with NaN\n",
    "patient_df['Age'] = patient_df['Age'].apply(lambda x: x if x >= 0 else None)\n",
    "\n",
    "# Fill missing medication entries with a placeholder value\n",
    "patient_df['Medication'] = patient_df['Medication'].fillna('Unknown')\n",
    "\n",
    "# Replace empty diagnosis entries with a placeholder value\n",
    "patient_df['Diagnosis'] = patient_df['Diagnosis'].replace('', 'Unknown')\n",
    "\n",
    "# Display the cleaned dataset\n",
    "print(\"Cleaned Patient Dataset:\")\n",
    "print(patient_df)\n",
    "\n",
    "# Validate the dataset\n",
    "print(\"\\nValidation Checks:\")\n",
    "if (patient_df['Age'] < 0).any():\n",
    "    print(\"- Negative age values still exist.\")\n",
    "else:\n",
    "    print(\"- No negative age values found.\")\n",
    "\n",
    "if patient_df['Medication'].isnull().any():\n",
    "    print(\"- Missing medication entries still exist.\")\n",
    "else:\n",
    "    print(\"- No missing medication entries found.\")\n",
    "\n",
    "if patient_df['Diagnosis'].str.strip().eq('').any():\n",
    "    print(\"- Empty diagnosis entries still exist.\")\n",
    "else:\n",
    "    print(\"- No empty diagnosis entries found.\")"
   ]
  }
 ],
 "metadata": {
  "kernelspec": {
   "display_name": ".venv",
   "language": "python",
   "name": "python3"
  },
  "language_info": {
   "codemirror_mode": {
    "name": "ipython",
    "version": 3
   },
   "file_extension": ".py",
   "mimetype": "text/x-python",
   "name": "python",
   "nbconvert_exporter": "python",
   "pygments_lexer": "ipython3",
   "version": "3.10.12"
  }
 },
 "nbformat": 4,
 "nbformat_minor": 2
}
