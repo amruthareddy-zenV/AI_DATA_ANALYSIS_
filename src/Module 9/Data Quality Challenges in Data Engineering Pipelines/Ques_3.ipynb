{
 "cells": [
  {
   "cell_type": "markdown",
   "metadata": {},
   "source": [
    "### Metadata Management for Data Quality\n",
    "**Description**: Store and use metadata to manage data quality in a pipeline.\n",
    "\n",
    "**Steps**:\n",
    "1. Load metadata\n",
    "2. Load data\n",
    "3. Use metadata to validate data quality\n",
    "4. Show valid data\n"
   ]
  },
  {
   "cell_type": "code",
   "execution_count": null,
   "metadata": {},
   "outputs": [],
   "source": [
    "# write your code from here"
   ]
  },
  {
   "cell_type": "code",
   "execution_count": 1,
   "metadata": {},
   "outputs": [
    {
     "name": "stdout",
     "output_type": "stream",
     "text": [
      "Metadata loaded successfully: {'columns': {'Name': {'type': 'string', 'required': True}, 'Age': {'type': 'integer', 'required': True, 'min': 0}, 'Gender': {'type': 'string', 'required': True, 'allowed_values': ['M', 'F']}}}\n"
     ]
    }
   ],
   "source": [
    "import json\n",
    "\n",
    "# Load metadata\n",
    "\n",
    "# Example metadata in JSON format\n",
    "metadata_json = '''\n",
    "{\n",
    "    \"columns\": {\n",
    "        \"Name\": {\"type\": \"string\", \"required\": true},\n",
    "        \"Age\": {\"type\": \"integer\", \"required\": true, \"min\": 0},\n",
    "        \"Gender\": {\"type\": \"string\", \"required\": true, \"allowed_values\": [\"M\", \"F\"]}\n",
    "    }\n",
    "}\n",
    "'''\n",
    "\n",
    "# Parse the metadata\n",
    "metadata = json.loads(metadata_json)\n",
    "print(\"Metadata loaded successfully:\", metadata)"
   ]
  }
 ],
 "metadata": {
  "kernelspec": {
   "display_name": ".venv",
   "language": "python",
   "name": "python3"
  },
  "language_info": {
   "codemirror_mode": {
    "name": "ipython",
    "version": 3
   },
   "file_extension": ".py",
   "mimetype": "text/x-python",
   "name": "python",
   "nbconvert_exporter": "python",
   "pygments_lexer": "ipython3",
   "version": "3.10.12"
  }
 },
 "nbformat": 4,
 "nbformat_minor": 2
}
