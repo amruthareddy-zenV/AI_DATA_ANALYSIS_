{
 "cells": [
  {
   "cell_type": "markdown",
   "metadata": {},
   "source": [
    "## Isolation Forest for Anomaly Detection\n",
    "**Objective**: Understand and apply the Isolation Forest algorithm to identify anomalies in datasets.\n",
    "\n",
    "### Task: Anomaly Detection in Financial Transactions\n",
    "**Steps**:\n",
    "1. Import Libraries\n",
    "2. Load Dataset\n",
    "3. Apply Isolation Forest\n",
    "4. Visualize Anomalies"
   ]
  },
  {
   "cell_type": "code",
   "execution_count": 1,
   "metadata": {},
   "outputs": [],
   "source": [
    "# write your code from here"
   ]
  },
  {
   "cell_type": "code",
   "execution_count": 3,
   "metadata": {},
   "outputs": [
    {
     "name": "stdout",
     "output_type": "stream",
     "text": [
      "   Feature1  Feature2 Anomaly\n",
      "0  0.496714 -0.138264  Normal\n",
      "1  0.647689  1.523030  Normal\n",
      "2 -0.234153 -0.234137  Normal\n",
      "3  1.579213  0.767435  Normal\n",
      "4 -0.469474  0.542560  Normal\n"
     ]
    }
   ],
   "source": [
    "from sklearn.ensemble import IsolationForest\n",
    "import numpy as np\n",
    "import pandas as pd\n",
    "\n",
    "# Generate a synthetic dataset\n",
    "np.random.seed(42)\n",
    "data = np.random.randn(100, 2)  # 100 samples, 2 features\n",
    "data = np.vstack([data, [10, 10], [-10, -10]])  # Add anomalies\n",
    "\n",
    "# Create a DataFrame\n",
    "df = pd.DataFrame(data, columns=['Feature1', 'Feature2'])\n",
    "\n",
    "# Apply Isolation Forest\n",
    "iso_forest = IsolationForest(contamination=0.05, random_state=42)\n",
    "df['Anomaly'] = iso_forest.fit_predict(df[['Feature1', 'Feature2']])\n",
    "\n",
    "# Mark anomalies\n",
    "df['Anomaly'] = df['Anomaly'].map({1: 'Normal', -1: 'Anomaly'})\n",
    "\n",
    "print(df.head())"
   ]
  }
 ],
 "metadata": {
  "kernelspec": {
   "display_name": "Python 3",
   "language": "python",
   "name": "python3"
  },
  "language_info": {
   "codemirror_mode": {
    "name": "ipython",
    "version": 3
   },
   "file_extension": ".py",
   "mimetype": "text/x-python",
   "name": "python",
   "nbconvert_exporter": "python",
   "pygments_lexer": "ipython3",
   "version": "3.10.12"
  }
 },
 "nbformat": 4,
 "nbformat_minor": 2
}
