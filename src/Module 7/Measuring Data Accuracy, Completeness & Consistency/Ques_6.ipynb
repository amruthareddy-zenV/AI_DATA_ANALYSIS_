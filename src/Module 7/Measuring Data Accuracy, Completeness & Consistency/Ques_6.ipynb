{
 "cells": [
  {
   "cell_type": "markdown",
   "metadata": {},
   "source": [
    "## Architecture to Monitor Data Quality Over Time\n",
    "\n",
    "**Description**: Design a monitoring system in Python that checks and logs data quality metrics (accuracy, completeness) for a dataset over time.\n",
    "\n",
    "**Steps to follow:**\n",
    "1. Implement a Scheduled Script:\n",
    "    - Use schedule library to periodically run a script.\n",
    "2. Script to Calculate Metrics:\n",
    "    - For simplicity, use a function calculate_quality_metrics() that calculates and logs metrics such as missing rate or mismatch rate.\n",
    "3. Store Logs:\n",
    "    - Use Python's logging library to save these metrics over time."
   ]
  },
  {
   "cell_type": "code",
   "execution_count": null,
   "metadata": {},
   "outputs": [],
   "source": [
    "# Write your code from here"
   ]
  },
  {
   "cell_type": "code",
   "execution_count": 2,
   "metadata": {},
   "outputs": [
    {
     "ename": "NameError",
     "evalue": "name 'schedule' is not defined",
     "output_type": "error",
     "traceback": [
      "\u001b[0;31m---------------------------------------------------------------------------\u001b[0m",
      "\u001b[0;31mNameError\u001b[0m                                 Traceback (most recent call last)",
      "Cell \u001b[0;32mIn[2], line 38\u001b[0m\n\u001b[1;32m     35\u001b[0m     calculate_quality_metrics(data)\n\u001b[1;32m     37\u001b[0m \u001b[38;5;66;03m# Schedule the script to run every minute\u001b[39;00m\n\u001b[0;32m---> 38\u001b[0m \u001b[43mschedule\u001b[49m\u001b[38;5;241m.\u001b[39mevery(\u001b[38;5;241m1\u001b[39m)\u001b[38;5;241m.\u001b[39mminutes\u001b[38;5;241m.\u001b[39mdo(monitor_data_quality)\n\u001b[1;32m     40\u001b[0m \u001b[38;5;66;03m# Keep the script running\u001b[39;00m\n\u001b[1;32m     41\u001b[0m \u001b[38;5;28mprint\u001b[39m(\u001b[38;5;124m\"\u001b[39m\u001b[38;5;124mStarting the data quality monitoring system...\u001b[39m\u001b[38;5;124m\"\u001b[39m)\n",
      "\u001b[0;31mNameError\u001b[0m: name 'schedule' is not defined"
     ]
    }
   ],
   "source": [
    "import pandas as pd\n",
    "import logging\n",
    "import time\n",
    "from datetime import datetime\n",
    "\n",
    "# Sample dataset\n",
    "data = pd.DataFrame({\n",
    "    'Name': ['Alice', 'Bob', 'Charlie', None],\n",
    "    'Age': [25, None, 35, 40],\n",
    "    'Gender': ['F', 'M', 'M', 'F']\n",
    "})\n",
    "\n",
    "# Configure logging\n",
    "logging.basicConfig(\n",
    "    filename='data_quality.log',\n",
    "    level=logging.INFO,\n",
    "    format='%(asctime)s - %(message)s'\n",
    ")\n",
    "\n",
    "# Function to calculate quality metrics\n",
    "def calculate_quality_metrics(df):\n",
    "    total_rows = len(df)\n",
    "    missing_values = df.isnull().sum().sum()\n",
    "    missing_rate = missing_values / (total_rows * len(df.columns))\n",
    "    \n",
    "    # Log metrics\n",
    "    logging.info(f\"Total Rows: {total_rows}\")\n",
    "    logging.info(f\"Missing Values: {missing_values}\")\n",
    "    logging.info(f\"Missing Rate: {missing_rate:.2%}\")\n",
    "    print(f\"Logged metrics: Total Rows={total_rows}, Missing Values={missing_values}, Missing Rate={missing_rate:.2%}\")\n",
    "\n",
    "# Function to run the monitoring script\n",
    "def monitor_data_quality():\n",
    "    print(f\"Running data quality check at {datetime.now()}\")\n",
    "    calculate_quality_metrics(data)\n",
    "\n",
    "# Schedule the script to run every minute\n",
    "schedule.every(1).minutes.do(monitor_data_quality)\n",
    "\n",
    "# Keep the script running\n",
    "print(\"Starting the data quality monitoring system...\")\n",
    "while True:\n",
    "    schedule.run_pending()\n",
    "    time.sleep(1)"
   ]
  },
  {
   "cell_type": "code",
   "execution_count": 3,
   "metadata": {},
   "outputs": [
    {
     "ename": "ModuleNotFoundError",
     "evalue": "No module named 'schedule'",
     "output_type": "error",
     "traceback": [
      "\u001b[0;31m---------------------------------------------------------------------------\u001b[0m",
      "\u001b[0;31mModuleNotFoundError\u001b[0m                       Traceback (most recent call last)",
      "Cell \u001b[0;32mIn[3], line 1\u001b[0m\n\u001b[0;32m----> 1\u001b[0m \u001b[38;5;28;01mimport\u001b[39;00m\u001b[38;5;250m \u001b[39m\u001b[38;5;21;01mschedule\u001b[39;00m\n\u001b[1;32m      3\u001b[0m \u001b[38;5;66;03m# Corrected function to run the monitoring script\u001b[39;00m\n\u001b[1;32m      4\u001b[0m \u001b[38;5;28;01mdef\u001b[39;00m\u001b[38;5;250m \u001b[39m\u001b[38;5;21mmonitor_data_quality\u001b[39m():\n",
      "\u001b[0;31mModuleNotFoundError\u001b[0m: No module named 'schedule'"
     ]
    }
   ],
   "source": [
    "import schedule\n",
    "\n",
    "# Corrected function to run the monitoring script\n",
    "def monitor_data_quality():\n",
    "    print(f\"Running data quality check at {datetime.now()}\")\n",
    "    calculate_quality_metrics(data)\n",
    "\n",
    "# Schedule the script to run every minute\n",
    "schedule.every(1).minutes.do(monitor_data_quality)\n",
    "\n",
    "# Run the scheduled tasks manually for a limited time\n",
    "print(\"Starting the data quality monitoring system (manual execution)...\")\n",
    "for _ in range(3):  # Run the scheduled tasks 3 times for demonstration\n",
    "    schedule.run_pending()\n",
    "    time.sleep(60)  # Wait for 1 minute between executions"
   ]
  },
  {
   "cell_type": "code",
   "execution_count": 4,
   "metadata": {},
   "outputs": [
    {
     "name": "stdout",
     "output_type": "stream",
     "text": [
      "Dataset Summary:\n",
      "<class 'pandas.core.frame.DataFrame'>\n",
      "RangeIndex: 4 entries, 0 to 3\n",
      "Data columns (total 3 columns):\n",
      " #   Column  Non-Null Count  Dtype  \n",
      "---  ------  --------------  -----  \n",
      " 0   Name    3 non-null      object \n",
      " 1   Age     3 non-null      float64\n",
      " 2   Gender  4 non-null      object \n",
      "dtypes: float64(1), object(2)\n",
      "memory usage: 224.0+ bytes\n",
      "None\n",
      "\n",
      "Dataset Preview:\n",
      "      Name   Age Gender\n",
      "0    Alice  25.0      F\n",
      "1      Bob   NaN      M\n",
      "2  Charlie  35.0      M\n",
      "3     None  40.0      F\n"
     ]
    }
   ],
   "source": [
    "# Display the summary of the dataset\n",
    "print(\"Dataset Summary:\")\n",
    "print(data.info())\n",
    "\n",
    "# Display the first few rows of the dataset\n",
    "print(\"\\nDataset Preview:\")\n",
    "print(data.head())"
   ]
  }
 ],
 "metadata": {
  "kernelspec": {
   "display_name": ".venv",
   "language": "python",
   "name": "python3"
  },
  "language_info": {
   "codemirror_mode": {
    "name": "ipython",
    "version": 3
   },
   "file_extension": ".py",
   "mimetype": "text/x-python",
   "name": "python",
   "nbconvert_exporter": "python",
   "pygments_lexer": "ipython3",
   "version": "3.10.12"
  }
 },
 "nbformat": 4,
 "nbformat_minor": 2
}
