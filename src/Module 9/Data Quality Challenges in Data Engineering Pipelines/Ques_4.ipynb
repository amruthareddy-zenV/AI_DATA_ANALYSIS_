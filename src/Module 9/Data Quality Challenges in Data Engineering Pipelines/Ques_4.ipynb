{
 "cells": [
  {
   "cell_type": "markdown",
   "metadata": {},
   "source": [
    "### Complex Schema Validation with Avro\n",
    "**Description**: Implement a solution in Python to validate records against a complex nested Avro schema.\n",
    "\n",
    "Eg., Complex schema ( nested_schema.avsc ):\n",
    "\n",
    "**Steps**:\n",
    "1. Load schema\n",
    "2. Example data to validate\n",
    "3. Validate against schema\n",
    "4. Read back to check"
   ]
  },
  {
   "cell_type": "code",
   "execution_count": null,
   "metadata": {},
   "outputs": [],
   "source": [
    "# write your code from here"
   ]
  },
  {
   "cell_type": "code",
   "execution_count": 1,
   "metadata": {},
   "outputs": [
    {
     "ename": "ModuleNotFoundError",
     "evalue": "No module named 'fastavro'",
     "output_type": "error",
     "traceback": [
      "\u001b[0;31m---------------------------------------------------------------------------\u001b[0m",
      "\u001b[0;31mModuleNotFoundError\u001b[0m                       Traceback (most recent call last)",
      "Cell \u001b[0;32mIn[1], line 1\u001b[0m\n\u001b[0;32m----> 1\u001b[0m \u001b[38;5;28;01mimport\u001b[39;00m\u001b[38;5;250m \u001b[39m\u001b[38;5;21;01mfastavro\u001b[39;00m\n\u001b[1;32m      2\u001b[0m \u001b[38;5;28;01mimport\u001b[39;00m\u001b[38;5;250m \u001b[39m\u001b[38;5;21;01mjson\u001b[39;00m\n\u001b[1;32m      4\u001b[0m \u001b[38;5;66;03m# Step 1: Load schema\u001b[39;00m\n",
      "\u001b[0;31mModuleNotFoundError\u001b[0m: No module named 'fastavro'"
     ]
    }
   ],
   "source": [
    "import fastavro\n",
    "import json\n",
    "\n",
    "# Step 1: Load schema\n",
    "with open('nested_schema.avsc', 'r') as schema_file:\n",
    "    schema = json.load(schema_file)\n",
    "\n",
    "# Step 2: Example data to validate\n",
    "example_data = {\n",
    "    \"name\": \"John Doe\",\n",
    "    \"age\": 30,\n",
    "    \"address\": {\n",
    "        \"street\": \"123 Main St\",\n",
    "        \"city\": \"Anytown\",\n",
    "        \"zip\": \"12345\"\n",
    "    }\n",
    "}\n",
    "\n",
    "# Step 3: Validate against schema\n",
    "try:\n",
    "    fastavro.validation.validate(example_data, schema)\n",
    "    print(\"Data is valid against the schema.\")\n",
    "except fastavro.validation.ValidationError as e:\n",
    "    print(f\"Validation error: {e}\")\n",
    "\n",
    "# Step 4: Read back to check (optional)\n",
    "with open('example_data.avro', 'wb') as out_file:\n",
    "    fastavro.writer(out_file, schema, [example_data])\n",
    "\n",
    "print(\"Data written to example_data.avro\")"
   ]
  }
 ],
 "metadata": {
  "kernelspec": {
   "display_name": ".venv",
   "language": "python",
   "name": "python3"
  },
  "language_info": {
   "codemirror_mode": {
    "name": "ipython",
    "version": 3
   },
   "file_extension": ".py",
   "mimetype": "text/x-python",
   "name": "python",
   "nbconvert_exporter": "python",
   "pygments_lexer": "ipython3",
   "version": "3.10.12"
  }
 },
 "nbformat": 4,
 "nbformat_minor": 2
}
