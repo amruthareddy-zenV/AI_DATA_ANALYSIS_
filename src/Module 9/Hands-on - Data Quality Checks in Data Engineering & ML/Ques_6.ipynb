{
 "cells": [
  {
   "cell_type": "markdown",
   "metadata": {},
   "source": [
    "### Detect Data Drift in ML Models\n",
    "**Objective**: Monitor and detect changes in data distributions that impact ML model performance.\n",
    "\n",
    "**Task**: Categorical Feature Drift\n",
    "\n",
    "**Steps**:\n",
    "1. Load the baseline distribution for a categorical feature (e.g., gender ) from your training dataset.\n",
    "2. Load the same feature from your current production data.\n",
    "3. Use chi-squared tests to compare the distributions of the categorical feature.\n",
    "4. Step 4: If significant drift is detected, investigate the cause and update the model as needed."
   ]
  },
  {
   "cell_type": "code",
   "execution_count": null,
   "metadata": {},
   "outputs": [],
   "source": [
    "# write your code from here"
   ]
  },
  {
   "cell_type": "code",
   "execution_count": 1,
   "metadata": {},
   "outputs": [
    {
     "name": "stdout",
     "output_type": "stream",
     "text": [
      "No significant drift detected (p-value: 0.20082512269514174 )\n"
     ]
    }
   ],
   "source": [
    "import pandas as pd\n",
    "from scipy.stats import chi2_contingency\n",
    "\n",
    "# Example baseline distribution (training data)\n",
    "baseline_data = pd.DataFrame({'Gender': ['F', 'M'], 'Count': [60, 40]})\n",
    "\n",
    "# Example production data (current data)\n",
    "production_data = pd.DataFrame({'Gender': ['F', 'M'], 'Count': [50, 50]})\n",
    "\n",
    "# Merge the two distributions on the categorical feature\n",
    "merged_data = pd.merge(baseline_data, production_data, on='Gender', suffixes=('_baseline', '_production'))\n",
    "\n",
    "# Perform chi-squared test\n",
    "chi2, p, dof, expected = chi2_contingency([merged_data['Count_baseline'], merged_data['Count_production']])\n",
    "\n",
    "# Check for significant drift\n",
    "alpha = 0.05\n",
    "if p < alpha:\n",
    "    print(\"Significant drift detected (p-value:\", p, \")\")\n",
    "else:\n",
    "    print(\"No significant drift detected (p-value:\", p, \")\")"
   ]
  }
 ],
 "metadata": {
  "kernelspec": {
   "display_name": "Python 3",
   "language": "python",
   "name": "python3"
  },
  "language_info": {
   "codemirror_mode": {
    "name": "ipython",
    "version": 3
   },
   "file_extension": ".py",
   "mimetype": "text/x-python",
   "name": "python",
   "nbconvert_exporter": "python",
   "pygments_lexer": "ipython3",
   "version": "3.10.12"
  }
 },
 "nbformat": 4,
 "nbformat_minor": 2
}
